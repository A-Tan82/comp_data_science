{
 "cells": [
  {
   "cell_type": "code",
   "execution_count": 1,
   "id": "1aa31b53",
   "metadata": {},
   "outputs": [],
   "source": [
    "import re"
   ]
  },
  {
   "cell_type": "code",
   "execution_count": 3,
   "id": "e9c85dd5",
   "metadata": {},
   "outputs": [],
   "source": [
    "text = \"As a Data Scientist, I solved more than 100 Business Problems and helped my companies to achieve $100M Savings\""
   ]
  },
  {
   "cell_type": "code",
   "execution_count": 7,
   "id": "1431ece8",
   "metadata": {},
   "outputs": [
    {
     "name": "stdout",
     "output_type": "stream",
     "text": [
      "As-a-Data-Scientist,-I-solved-more-than-100-Business-Problems-and-helped-my-companies-to-achieve-$100M-Savings\n"
     ]
    },
    {
     "name": "stderr",
     "output_type": "stream",
     "text": [
      "<>:2: SyntaxWarning: invalid escape sequence '\\s'\n",
      "<>:2: SyntaxWarning: invalid escape sequence '\\s'\n",
      "C:\\Users\\shubh\\AppData\\Local\\Temp\\ipykernel_22124\\960941986.py:2: SyntaxWarning: invalid escape sequence '\\s'\n",
      "  print(re.sub(\"\\s\", \"-\", text))\n"
     ]
    }
   ],
   "source": [
    "#\\s represent Whitespace\n",
    "print(re.sub(\"\\s\", \"\\n\", text))"
   ]
  },
  {
   "cell_type": "code",
   "execution_count": 9,
   "id": "1b8dc91f",
   "metadata": {},
   "outputs": [
    {
     "name": "stderr",
     "output_type": "stream",
     "text": [
      "<>:1: SyntaxWarning: invalid escape sequence '\\S'\n",
      "<>:1: SyntaxWarning: invalid escape sequence '\\S'\n",
      "C:\\Users\\shubh\\AppData\\Local\\Temp\\ipykernel_22124\\734764676.py:1: SyntaxWarning: invalid escape sequence '\\S'\n",
      "  re.sub(\"\\S\", \"0\", text)\n"
     ]
    },
    {
     "data": {
      "text/plain": [
       "'00 0 0000 0000000000 0 000000 0000 0000 000 00000000 00000000 000 000000 00 000000000 00 0000000 00000 0000000'"
      ]
     },
     "execution_count": 9,
     "metadata": {},
     "output_type": "execute_result"
    }
   ],
   "source": [
    "re.sub(\"\\S\", \"0\", text)"
   ]
  },
  {
   "cell_type": "code",
   "execution_count": 11,
   "id": "27c24c64",
   "metadata": {},
   "outputs": [
    {
     "name": "stderr",
     "output_type": "stream",
     "text": [
      "<>:1: SyntaxWarning: invalid escape sequence '\\d'\n",
      "<>:1: SyntaxWarning: invalid escape sequence '\\d'\n",
      "C:\\Users\\shubh\\AppData\\Local\\Temp\\ipykernel_22124\\4108389217.py:1: SyntaxWarning: invalid escape sequence '\\d'\n",
      "  re.sub(\"\\d\", \"9\", text)\n"
     ]
    },
    {
     "data": {
      "text/plain": [
       "'As a Data Scientist, I solved more than 999 Business Problems and helped my companies to achieve $999M Savings'"
      ]
     },
     "execution_count": 11,
     "metadata": {},
     "output_type": "execute_result"
    }
   ],
   "source": [
    "re.sub(\"\\d\", \"9\", text)"
   ]
  },
  {
   "cell_type": "code",
   "execution_count": 13,
   "id": "dd9a5456",
   "metadata": {},
   "outputs": [
    {
     "name": "stderr",
     "output_type": "stream",
     "text": [
      "<>:1: SyntaxWarning: invalid escape sequence '\\D'\n",
      "<>:1: SyntaxWarning: invalid escape sequence '\\D'\n",
      "C:\\Users\\shubh\\AppData\\Local\\Temp\\ipykernel_22124\\2257497135.py:1: SyntaxWarning: invalid escape sequence '\\D'\n",
      "  re.sub(\"\\D\", \"a\", text)\n"
     ]
    },
    {
     "data": {
      "text/plain": [
       "'aaaaaaaaaaaaaaaaaaaaaaaaaaaaaaaaaaaaaaaa100aaaaaaaaaaaaaaaaaaaaaaaaaaaaaaaaaaaaaaaaaaaaaaaaaaaaaaa100aaaaaaaaa'"
      ]
     },
     "execution_count": 13,
     "metadata": {},
     "output_type": "execute_result"
    }
   ],
   "source": [
    "re.sub(\"\\D\", \"a\", text)"
   ]
  },
  {
   "cell_type": "code",
   "execution_count": 15,
   "id": "17739313",
   "metadata": {},
   "outputs": [
    {
     "name": "stderr",
     "output_type": "stream",
     "text": [
      "<>:2: SyntaxWarning: invalid escape sequence '\\s'\n",
      "<>:2: SyntaxWarning: invalid escape sequence '\\s'\n",
      "C:\\Users\\shubh\\AppData\\Local\\Temp\\ipykernel_22124\\3216484998.py:2: SyntaxWarning: invalid escape sequence '\\s'\n",
      "  re.split(\"\\s\", text)\n"
     ]
    },
    {
     "data": {
      "text/plain": [
       "['As',\n",
       " 'a',\n",
       " 'Data',\n",
       " 'Scientist,',\n",
       " 'I',\n",
       " 'solved',\n",
       " 'more',\n",
       " 'than',\n",
       " '100',\n",
       " 'Business',\n",
       " 'Problems',\n",
       " 'and',\n",
       " 'helped',\n",
       " 'my',\n",
       " 'companies',\n",
       " 'to',\n",
       " 'achieve',\n",
       " '$100M',\n",
       " 'Savings']"
      ]
     },
     "execution_count": 15,
     "metadata": {},
     "output_type": "execute_result"
    }
   ],
   "source": [
    "#Tokenization\n",
    "re.split(\"\\s\", text)"
   ]
  },
  {
   "cell_type": "code",
   "execution_count": 17,
   "id": "314826b6",
   "metadata": {},
   "outputs": [],
   "source": [
    "import re"
   ]
  },
  {
   "cell_type": "code",
   "execution_count": 41,
   "id": "7a6d1173",
   "metadata": {},
   "outputs": [],
   "source": [
    "text = \"Hi i purchased a phone for 23,000 rupees. Now i sold it for 20k\""
   ]
  },
  {
   "cell_type": "code",
   "execution_count": 43,
   "id": "978d47eb",
   "metadata": {},
   "outputs": [
    {
     "name": "stderr",
     "output_type": "stream",
     "text": [
      "<>:1: SyntaxWarning: invalid escape sequence '\\d'\n",
      "<>:1: SyntaxWarning: invalid escape sequence '\\d'\n",
      "C:\\Users\\shubh\\AppData\\Local\\Temp\\ipykernel_22124\\1384786630.py:1: SyntaxWarning: invalid escape sequence '\\d'\n",
      "  re.findall(\"^\\d{2},\\d{3}$\",text)\n"
     ]
    },
    {
     "data": {
      "text/plain": [
       "['23,000']"
      ]
     },
     "execution_count": 43,
     "metadata": {},
     "output_type": "execute_result"
    }
   ],
   "source": [
    "re.findall(\"\\d{2},\\d{3}\",text)"
   ]
  },
  {
   "cell_type": "code",
   "execution_count": 45,
   "id": "75f5b420",
   "metadata": {},
   "outputs": [
    {
     "data": {
      "text/plain": [
       "[]"
      ]
     },
     "execution_count": 45,
     "metadata": {},
     "output_type": "execute_result"
    }
   ],
   "source": [
    "re.findall(\"(rup)ees\",text)"
   ]
  },
  {
   "cell_type": "code",
   "execution_count": null,
   "id": "42ae7be7",
   "metadata": {},
   "outputs": [],
   "source": [
    "{},()"
   ]
  },
  {
   "cell_type": "code",
   "execution_count": null,
   "id": "519c8cec",
   "metadata": {},
   "outputs": [],
   "source": [
    "^ tells where to start from in the pattern(Start of the Pattern)\n",
    "$ (End of the Pattern)"
   ]
  },
  {
   "cell_type": "code",
   "execution_count": null,
   "id": "20055c06",
   "metadata": {},
   "outputs": [],
   "source": [
    "findall\n",
    "split \n",
    "{}\n",
    "/d"
   ]
  },
  {
   "cell_type": "code",
   "execution_count": null,
   "id": "6d588982",
   "metadata": {},
   "outputs": [],
   "source": [
    "text1 = \"My address is 21/8A Navada, Delhi 319189\"\n",
    "test2 = \"Akash's address is 23/1 Laxmi Nagar, Gujarat 234244\""
   ]
  },
  {
   "cell_type": "code",
   "execution_count": null,
   "id": "c1cf612b",
   "metadata": {},
   "outputs": [],
   "source": [
    "print(\"address-line1:\",)"
   ]
  },
  {
   "cell_type": "code",
   "execution_count": null,
   "id": "50d76ab2",
   "metadata": {},
   "outputs": [],
   "source": [
    "address-line1: 21/8A Navada\n",
    "address-line2: Delhi\n",
    "Pincode: 319189"
   ]
  },
  {
   "cell_type": "code",
   "execution_count": null,
   "id": "9eb69021",
   "metadata": {},
   "outputs": [],
   "source": [
    "my phone number is +1-6792548964.\n",
    "my phone details are +81-2672667289 thank you."
   ]
  }
 ],
 "metadata": {
  "kernelspec": {
   "display_name": "Python 3 (ipykernel)",
   "language": "python",
   "name": "python3"
  },
  "language_info": {
   "codemirror_mode": {
    "name": "ipython",
    "version": 3
   },
   "file_extension": ".py",
   "mimetype": "text/x-python",
   "name": "python",
   "nbconvert_exporter": "python",
   "pygments_lexer": "ipython3",
   "version": "3.12.4"
  }
 },
 "nbformat": 4,
 "nbformat_minor": 5
}
