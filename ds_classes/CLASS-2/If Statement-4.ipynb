{
 "cells": [
  {
   "cell_type": "markdown",
   "metadata": {},
   "source": [
    "#Equals: a == b\n",
    "#Not Equals: a != b\n",
    "#Less than: a < b\n",
    "#Less than or equal to: a <= b\n",
    "#Greater than: a > b\n",
    "#Greater than or equal to: a >= b"
   ]
  },
  {
   "cell_type": "markdown",
   "metadata": {},
   "source": [
    "Any Boolean expression evaluating to True or False appears after the if keyword. Use the : symbol and press Enter after the expression to start a block with an increased indent."
   ]
  },
  {
   "cell_type": "markdown",
   "metadata": {},
   "source": [
    "The statements with the same indentation level as if condition will not consider in the if block. They will consider out of the if condition."
   ]
  },
  {
   "cell_type": "code",
   "execution_count": null,
   "metadata": {},
   "outputs": [],
   "source": []
  },
  {
   "cell_type": "code",
   "execution_count": null,
   "metadata": {
    "scrolled": true
   },
   "outputs": [],
   "source": [
    "a = 505\n",
    "b = 60\n",
    "if b < a:\n",
    "    print(\"b is less than a\")\n",
    "    print(b)"
   ]
  },
  {
   "cell_type": "code",
   "execution_count": null,
   "metadata": {},
   "outputs": [],
   "source": [
    "print(type(a))"
   ]
  },
  {
   "cell_type": "markdown",
   "metadata": {},
   "source": [
    "# Python relies on indentation (whitespace at the beginning of a line) to define scope in the code"
   ]
  },
  {
   "cell_type": "code",
   "execution_count": null,
   "metadata": {},
   "outputs": [],
   "source": [
    "\n",
    "a = 55\n",
    "b = 100\n",
    "if b > a:\n",
    "    print(\"b is greater than a\")"
   ]
  },
  {
   "cell_type": "markdown",
   "metadata": {},
   "source": [
    "The elif block is executed if the specified condition evaluates to True."
   ]
  },
  {
   "cell_type": "code",
   "execution_count": null,
   "metadata": {},
   "outputs": [],
   "source": [
    "#Improvise the code, to print the condition when a is greater than b\n",
    "a = 34\n",
    "b = 34\n",
    "if b >= a:\n",
    "  ## Code 1\n",
    "  print(\"b is greater than a\")\n",
    "elif a == b:\n",
    "  ##code 2\n",
    "  print(\"a and b are equal\")\n",
    "else:\n",
    "    print(\"Not under scope\")"
   ]
  },
  {
   "cell_type": "code",
   "execution_count": null,
   "metadata": {},
   "outputs": [],
   "source": [
    "#Improvise the code\n",
    "price = 100\n",
    "\n",
    "if price >= 100:\n",
    " print(\"price is greater than 100\")\n",
    "\n",
    "if price == 100:\n",
    "  print(\"price is 100\")\n",
    "\n",
    "if price < 100:\n",
    "    print(\"price is less than 100\")"
   ]
  },
  {
   "cell_type": "code",
   "execution_count": null,
   "metadata": {},
   "outputs": [],
   "source": [
    "salary = 7\n",
    "\n",
    "if salary >= 10:\n",
    "    print(\"Goal Achieved\")\n",
    "else:\n",
    "    print(\"Need work more to achieve the goal\")"
   ]
  },
  {
   "cell_type": "code",
   "execution_count": null,
   "metadata": {},
   "outputs": [],
   "source": [
    "a=50\n",
    "b=34\n",
    "if a > b: print(\"a is greater than b\")"
   ]
  },
  {
   "cell_type": "code",
   "execution_count": null,
   "metadata": {},
   "outputs": [],
   "source": [
    "if a>b:\n",
    "    print(\"A\")\n",
    "else:\n",
    "    if a == b:\n",
    "        print(\"=\")\n",
    "    else:\n",
    "        print(\"B\")"
   ]
  },
  {
   "cell_type": "code",
   "execution_count": null,
   "metadata": {},
   "outputs": [],
   "source": [
    "#What to do, to print value of 'a' or value of 'b'\n",
    "a = 350\n",
    "b = 350\n",
    "print(\"A\") if a > b else print(\"=\") if a == b else print(\"B\")  "
   ]
  },
  {
   "cell_type": "code",
   "execution_count": null,
   "metadata": {},
   "outputs": [],
   "source": [
    "if a==b:\n",
    "    if a>b:\n",
    "        print(\"A\")\n",
    "    else:\n",
    "        print(\"=\")\n",
    "else:\n",
    "    print(\"B\")"
   ]
  },
  {
   "cell_type": "code",
   "execution_count": null,
   "metadata": {},
   "outputs": [],
   "source": [
    "a = 800\n",
    "b = 45\n",
    "c = 700\n",
    "if a > b and b > c:\n",
    "  print(\"Both conditions are True\")"
   ]
  },
  {
   "cell_type": "code",
   "execution_count": null,
   "metadata": {},
   "outputs": [],
   "source": [
    "a = 100\n",
    "b = 45\n",
    "c = 700\n",
    "if a > b or a > c:\n",
    "  print(\"At least one of the conditions is True\")"
   ]
  },
  {
   "cell_type": "code",
   "execution_count": null,
   "metadata": {},
   "outputs": [],
   "source": [
    "x = 45\n",
    "\n",
    "if x >= 10:\n",
    "  print(\"Above ten,\")\n",
    "  if x > 20:\n",
    "    print(\"and also above 20!\")\n",
    "  else:\n",
    "    print(\"but not above 20.\")"
   ]
  },
  {
   "cell_type": "code",
   "execution_count": null,
   "metadata": {},
   "outputs": [],
   "source": [
    "#Explore this piece of code & Find ways to make it more simple\n",
    "price = float(input(\"Enter the price: \"))\n",
    "quantity = float(input(\"Enter the quantity: \"))\n",
    "amount = price*quantity\n",
    "\n",
    "if amount > 100:\n",
    "    if amount > 500:\n",
    "        print(\"Amount is greater than 500\")\n",
    "    else:\n",
    "        if amount < 500 and amount > 400:\n",
    "            print(\"Amount is\")\n",
    "        elif amount < 500 and amount > 300:\n",
    "            print(\"Amount is between 300 and 500\")\n",
    "        else:\n",
    "            print(\"Amount is between 200 and 500\")\n",
    "elif amount == 100:\n",
    "    print(\"Amount is 100\")\n",
    "else:\n",
    "    print(\"Amount is less than 100\")"
   ]
  },
  {
   "cell_type": "code",
   "execution_count": null,
   "metadata": {},
   "outputs": [],
   "source": [
    "18 .......................... 19"
   ]
  },
  {
   "cell_type": "code",
   "execution_count": 23,
   "metadata": {},
   "outputs": [
    {
     "name": "stdout",
     "output_type": "stream",
     "text": [
      "19\n"
     ]
    }
   ],
   "source": [
    "import math\n",
    "a = 18.999\n",
    "b = round(18.51)\n",
    "print(b)\n",
    "#print(math.floor(a))\n",
    "#print(math.ceil(a))"
   ]
  },
  {
   "cell_type": "code",
   "execution_count": null,
   "metadata": {},
   "outputs": [],
   "source": [
    "weight = int(input(\"Enter your weight: \"));\n",
    "height = float(input(\"Enter your height: \"));\n",
    "x = weight/float(height*height);\n",
    "if x < 18.5:\n",
    "    print('Underweight')\n",
    "if x>=18.5 and x<24.9:\n",
    "    print(round(x,2))\n",
    "    print(\"Normal\")\n",
    "if x >= 25 and x < 29.9:\n",
    "   print('Overweight')\n",
    "if x >= 30:\n",
    "   print('Obesity')"
   ]
  },
  {
   "cell_type": "code",
   "execution_count": null,
   "metadata": {},
   "outputs": [],
   "source": [
    "weight = float(input(\"enter your weight(in Kg) : \"))\n",
    "height = float(input(\"enter your height(in meter) : \"))\n",
    "BMI = weight/(height**2)\n",
    "if BMI<=18.5:\n",
    "    print(\"You are underweight\")\n",
    "elif BMI>18.5 and BMI <=24.9:\n",
    "    print(\"You are normal weight\")\n",
    "elif BMI >24.9 and BMI < 29.9:\n",
    "    print(\"You are over weight\")\n",
    "elif BMI >29.9:\n",
    "    print(\"You are obese\")"
   ]
  },
  {
   "cell_type": "code",
   "execution_count": null,
   "metadata": {},
   "outputs": [],
   "source": [
    "weight = int (input (\"enter the weight:\"))\n",
    "height = float (input (\"enter the height:\"))\n",
    "bmi = weight / float(height*height)\n",
    "\n",
    "if bmi <= 18.5: \n",
    "    print (\"Your are underweight\")\n",
    "if bmi > 18.5 and bmi <= 24.9:\n",
    "    print(\"Your are normal weight\")\n",
    "elif bmi >= 25 and  bmi <= 29.9:\n",
    "    print(\"Your are overweight\")\n",
    "else:\n",
    "    print(\"BMI of 30 or greater\")"
   ]
  },
  {
   "cell_type": "code",
   "execution_count": null,
   "metadata": {},
   "outputs": [],
   "source": [
    "height=float(input(\"enter height \"))\n",
    "weight=float(input(\"enter weight \"))\n",
    "BMI=weight/(height*height)\n",
    "if BMI<16:\n",
    "    print(\"Severe Thinness\")\n",
    "elif BMI>=16 or BMI<17:\n",
    "    print(\"Moderate Thinness\")\n",
    "elif BMI>=17 or BMI<18.5:\n",
    "    print(\"Mild Thinness\")\n",
    "elif BMI>=18.5 or BMI<25:\n",
    "    print(\"Normal\")\n",
    "elif BMI>=25 or BMI<30:\n",
    "    print(\"Overweight\")\n",
    "elif BMI>=30 or BMI<35:\n",
    "    print(\"Obese Class I\")\n",
    "elif BMI>=35 or BMI<40:\n",
    "    print(\"Obese Class II\")\n",
    "else:\n",
    "    print(\"Obese Class III\")"
   ]
  },
  {
   "cell_type": "code",
   "execution_count": null,
   "metadata": {},
   "outputs": [],
   "source": [
    "height=float(input(\"enter height \"))\n",
    "weight=float(input(\"enter weight \"))\n",
    "BMI=weight/(height*height)\n",
    "if BMI<16:\n",
    "    print(\"Severe Thinness\")\n",
    "elif BMI>=16 or BMI<17:\n",
    "    print(\"Moderate Thinness\")\n",
    "elif BMI>=17 or BMI<18.5:\n",
    "    print(\"Mild Thinness\")\n",
    "elif BMI>=18.5 or BMI<25:\n",
    "    print(\"Normal\")\n",
    "elif BMI>=25 or BMI<30:\n",
    "    print(\"Overweight\")\n",
    "elif BMI>=30 or BMI<35:\n",
    "    print(\"Obese Class I\")\n",
    "elif BMI>=35 or BMI<40:\n",
    "    print(\"Obese Class II\")\n",
    "else:\n",
    "    print(\"Obese Class III\")"
   ]
  },
  {
   "cell_type": "code",
   "execution_count": null,
   "metadata": {},
   "outputs": [],
   "source": [
    "weight=float(input('enter the weight'))\n",
    "height=float(input('enter the height'))\n",
    "BMI=weight/float(height*height)\n",
    "if BMI<16:\n",
    "    print('severe thinness')\n",
    "    if BMI<17 and BMI>16:\n",
    "        print('moderate thinness')\n",
    "        if BMI<18.5 and BMI>17:\n",
    "            print('mild thinness')\n",
    "            if BMI<25 and BMI>18.5:\n",
    "                print('normal')\n",
    "    else:\n",
    "        if BMI<30 and BMI>25:\n",
    "            print('overweight')\n",
    "            if BMI<35 and BMI>30:\n",
    "                print('obese class 1')\n",
    "elif BMI<40 and BMI>35:\n",
    "    print('obese class 2')\n",
    "else:\n",
    "    print('obese class 3')"
   ]
  },
  {
   "cell_type": "code",
   "execution_count": null,
   "metadata": {},
   "outputs": [],
   "source": [
    "hight=float(input('Plese Enter hight in meter:'))\n",
    "weight=float(input('Please Enter Weight in kg:'))\n",
    "bmi=weight/(hight**2)\n",
    "print(bmi)\n",
    "if bmi<16:\n",
    "    print('severe Thinness')\n",
    "elif bmi<=17 and bmi>=16:\n",
    "    print('Moderate Thinness')\n",
    "elif bmi>17 and bmi<18.5:\n",
    "    print('Mild Thinness')\n",
    "elif bmi>=18.5 and bmi<25:\n",
    "    print('Normal')\n",
    "elif bmi>=25 and bmi<30:\n",
    "    print('Overweight')\n",
    "elif bmi>=30 and bmi<35:\n",
    "    print('Obese Class i')\n",
    "elif bmi>=35 and bmi<40:\n",
    "    print('Obese Class ii')\n",
    "else:\n",
    "    print('Obese Class iii')"
   ]
  },
  {
   "cell_type": "code",
   "execution_count": null,
   "metadata": {},
   "outputs": [],
   "source": [
    "weight = float(input(\"Enter your weight in Kgs \"))\n",
    "height = float(input(\"Enter your height in Cms \"))\n",
    "heightm = height/100 #height in m\n",
    "\n",
    "bmi = weight/(heightm*heightm)\n",
    "\n",
    "if bmi<16:\n",
    "    print(\"severe thinness\")\n",
    "elif bmi>=16 and bmi<17:\n",
    "    print(\"Moderate thinness\")\n",
    "elif bmi>=17 and bmi<18.5:\n",
    "    print(\"Mild thinness\")\n",
    "elif bmi>=18.5 and bmi<25:\n",
    "    print(\"Normal\")\n",
    "elif bmi>=25 and bmi<30:\n",
    "    print(\"Overweight\")\n",
    "elif bmi>=30 and bmi<35:\n",
    "    print(\"Obese Class 1\")\n",
    "elif bmi>=35 and bmi<40:\n",
    "    print(\"Obese Class 2\")\n",
    "else:\n",
    "    print(\"Obese Class 3\")\n"
   ]
  },
  {
   "cell_type": "code",
   "execution_count": null,
   "metadata": {},
   "outputs": [],
   "source": []
  },
  {
   "cell_type": "code",
   "execution_count": null,
   "metadata": {},
   "outputs": [],
   "source": [
    "Weight = float(input(\"Enter the weight kgs:\"))\n",
    "Height = float(input(\"Enter the Height mts:\"))\n",
    "BMI=float(Weight/(Height*Height))\n",
    "\n",
    "if BMI > 30:\n",
    "    print(\"Obesity\")\n",
    "if BMI>25 and BMI <29.9:\n",
    "    print(\"Overweight\")\n",
    "if BMI>18.5 and BMI <24.9:\n",
    "    print(\"Normal weight\")\n",
    "if BMI < 18.5:\n",
    "    print(\"Underweight\")\n",
    "print(BMI)"
   ]
  },
  {
   "cell_type": "code",
   "execution_count": null,
   "metadata": {},
   "outputs": [],
   "source": [
    "Weight = float(input(\"Enter the weight kgs:\"))\n",
    "Height = float(input(\"Enter the Height mts:\"))\n",
    "BMI=float(Weight/(Height*Height))\n",
    "\n",
    "if BMI > 30:\n",
    "    print(\"Obesity\")\n",
    "if BMI>25 and BMI <29.9:\n",
    "    print(\"Overweight\")\n",
    "if BMI>18.5 and BMI <24.9:\n",
    "    print(\"Normal weight\")\n",
    "if BMI < 18.5:\n",
    "    print(\"Underweight\")\n",
    "print(BMI)"
   ]
  },
  {
   "cell_type": "code",
   "execution_count": null,
   "metadata": {},
   "outputs": [],
   "source": [
    "the_height = float(input(\"Enter the height in cm: \"))  \n",
    "the_weight = float(input(\"Enter the weight in kg: \"))  \n",
    "# defining a function for BMI  \n",
    "the_BMI = the_weight / (the_height/100)**2  \n",
    "# printing the BMI  \n",
    "print(\"Your Body Mass Index is\", the_BMI)  \n",
    "if the_BMI <= 18.5:  \n",
    "    print(\"Oops! You are underweight.\")  \n",
    "elif the_BMI <= 24.9:  \n",
    "    print(\"Awesome! You are healthy.\")  \n",
    "elif the_BMI <= 29.9:  \n",
    "    the_print(\"Eee! You are over weight.\")  \n",
    "else:  \n",
    "    print(\"Seesh! You are obese.\")"
   ]
  },
  {
   "cell_type": "code",
   "execution_count": null,
   "metadata": {},
   "outputs": [],
   "source": [
    "the_height = float(input(\"Enter the height in cm: \"))  \n",
    "the_weight = float(input(\"Enter the weight in kg: \"))  \n",
    "# defining a function for BMI  \n",
    "the_BMI = the_weight / (the_height/100)**2  \n",
    "# printing the BMI  \n",
    "print(\"Your Body Mass Index is\", the_BMI)  \n",
    "if the_BMI <= 18.5:  \n",
    "    print(\"Oops! You are underweight.\")  \n",
    "elif the_BMI <= 24.9:  \n",
    "    print(\"Awesome! You are healthy.\")  \n",
    "elif the_BMI <= 29.9:  \n",
    "    the_print(\"Eee! You are over weight.\")  \n",
    "else:  \n",
    "    print(\"Seesh! You are obese.\")"
   ]
  },
  {
   "cell_type": "code",
   "execution_count": null,
   "metadata": {},
   "outputs": [],
   "source": [
    "username = input(\"Enter username:\")\n",
    "print(\"BEPEC CT Sep Participant name is: \" + username)\n",
    "print(\"BEPEC CT Sep Participant name is: \", type(username))"
   ]
  },
  {
   "cell_type": "code",
   "execution_count": null,
   "metadata": {},
   "outputs": [],
   "source": [
    "#Improve the code to nested if statement\n",
    "#User Input\n",
    "p = float(input('Enter a value for p: '))\n",
    "q = float(input('Enter a value for q: '))\n",
    "\n",
    "if q == 0.0:\n",
    "  print('Error: division by 0.')\n",
    "else:\n",
    "  print('p/q = ' + str(int(p/q)))"
   ]
  },
  {
   "cell_type": "code",
   "execution_count": null,
   "metadata": {},
   "outputs": [],
   "source": [
    "weight=float(input(\"Enter weight in kg\"))\n",
    "height=float(input(\"Enter height in metres\"))\n",
    "bmi= weight/(height)**2\n",
    "if bmi<18.5:\n",
    "    print(\"Underweight\")\n",
    "elif bmi>=18.5 and bmi<25:\n",
    "    print(\"Normal\")\n",
    "elif bmi>=25 and bmi<30:\n",
    "    print(\"Overweight\")\n",
    "else:\n",
    "    print(\"Obesity\")"
   ]
  },
  {
   "cell_type": "code",
   "execution_count": null,
   "metadata": {},
   "outputs": [],
   "source": [
    "Height = float(input(\"Enter the Height in m : \"))\n",
    "weight = float(input(\"Enter the Weight in kg : \"))\n",
    "BMI = weight / (Height * Height)\n",
    "if(BMI <= 18.5):\n",
    "    print (\"Underweight\")\n",
    "elif(BMI> 18.5 and BMI <25 ):\n",
    "    print (\"Normal Weight\")\n",
    "elif (BMI >=25 and BMI <30):\n",
    "    print (\"Overweight\")\n",
    "elif (BMI >=30 and BMI <35):\n",
    "    print (\"Obesity class 1\")\n",
    "elif (BMI >=35 and BMI <40):\n",
    "    print (\"Obesity class 2\")\n",
    "else :\n",
    "    print(\"Morbid Obesity\")"
   ]
  },
  {
   "cell_type": "code",
   "execution_count": null,
   "metadata": {},
   "outputs": [],
   "source": [
    "weight = float(input(\"Enter weight: \"))\n",
    "height = float(input(\"Enter height in m: \"))\n",
    "\n",
    "BMI = weight/(height*height)\n",
    "BMI\n",
    "\n",
    "if(BMI<=18.5):\n",
    "    print(\"Underweight\")\n",
    "elif(BMI>18.5 and BMI<=24.99):\n",
    "    print(\"Normal Weight\")\n",
    "elif(BMI>=25 and BMI<=29.99):\n",
    "    print(\"Normal Weight\")\n",
    "else:\n",
    "    print(\"Obesity\")"
   ]
  },
  {
   "cell_type": "code",
   "execution_count": null,
   "metadata": {},
   "outputs": [],
   "source": [
    "h=float(input(\"Enter your height: \"))\n",
    "w=float(input(\"Enter your weight: \"))\n",
    "w2=w*w\n",
    "BMI=h/w2\n",
    "if (BMI<118.5):\n",
    "    print(\"You are under weight\")\n",
    "    if BMI>118.5 and BMI<24.99:\n",
    "        print(\"You are normal\")\n",
    "    if BMI>24.99 and BMI<30:\n",
    "        print(\"Your are over weight\")\n",
    "else: print(\"You are obese\")"
   ]
  },
  {
   "cell_type": "code",
   "execution_count": null,
   "metadata": {},
   "outputs": [],
   "source": [
    "1. WAP to find the simple interest given p,r,t.\n",
    "Also check if SI>100: Approved\n",
    "    SI==100: Will consider\n",
    "    SI<100: Rejected\n",
    "2. WAP TO check if a number is divisible by 11.\n",
    "3. WAP TO check where the number entered by user is even or odd.\n",
    "4. WAP to find the last digit of a number given by user.\n",
    "5. WAP TO find the lowest number out of 2 inputs."
   ]
  }
 ],
 "metadata": {
  "kernelspec": {
   "display_name": "Python 3 (ipykernel)",
   "language": "python",
   "name": "python3"
  },
  "language_info": {
   "codemirror_mode": {
    "name": "ipython",
    "version": 3
   },
   "file_extension": ".py",
   "mimetype": "text/x-python",
   "name": "python",
   "nbconvert_exporter": "python",
   "pygments_lexer": "ipython3",
   "version": "3.12.4"
  }
 },
 "nbformat": 4,
 "nbformat_minor": 4
}
