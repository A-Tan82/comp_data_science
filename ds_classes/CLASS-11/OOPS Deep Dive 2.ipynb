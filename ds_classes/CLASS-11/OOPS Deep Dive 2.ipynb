{
 "cells": [
  {
   "cell_type": "markdown",
   "id": "2740fcc4",
   "metadata": {},
   "source": [
    "# Encapsulation"
   ]
  },
  {
   "cell_type": "code",
   "execution_count": 1,
   "id": "48d09d6b",
   "metadata": {},
   "outputs": [],
   "source": [
    "class Learner:\n",
    "    \"\"\" Encapsulation \"\"\"\n",
    "    def __init__(self, learner_id, name, course, age):\n",
    "        self.learner_id = learner_id\n",
    "        self.name = name\n",
    "        self.courses_1 = course\n",
    "        self._age = age"
   ]
  },
  {
   "cell_type": "code",
   "execution_count": 3,
   "id": "f11462a9",
   "metadata": {},
   "outputs": [],
   "source": [
    "kanth_learner = Learner(\"BCT123\", \"Kanth\",\"DSCT\",25)"
   ]
  },
  {
   "cell_type": "code",
   "execution_count": 5,
   "id": "94322808",
   "metadata": {},
   "outputs": [
    {
     "data": {
      "text/plain": [
       "'DSCT'"
      ]
     },
     "execution_count": 5,
     "metadata": {},
     "output_type": "execute_result"
    }
   ],
   "source": [
    "kanth_learner.courses_1"
   ]
  },
  {
   "cell_type": "code",
   "execution_count": 9,
   "id": "88f13855",
   "metadata": {},
   "outputs": [
    {
     "data": {
      "text/plain": [
       "25"
      ]
     },
     "execution_count": 9,
     "metadata": {},
     "output_type": "execute_result"
    }
   ],
   "source": [
    "kanth_learner._age"
   ]
  },
  {
   "cell_type": "markdown",
   "id": "24308163",
   "metadata": {},
   "source": [
    "# Name Mangling"
   ]
  },
  {
   "cell_type": "markdown",
   "id": "b3a6b555",
   "metadata": {},
   "source": [
    "Process by which name of the attribute is modified"
   ]
  },
  {
   "cell_type": "code",
   "execution_count": 11,
   "id": "8db62436",
   "metadata": {},
   "outputs": [],
   "source": [
    "class Learner1:\n",
    "    \"\"\"\n",
    "    Restrict Access helps us to prevent the direct access to the\n",
    "    attributes in order to avoid making problematic changes\n",
    "    \n",
    "    \"\"\"\n",
    "    def __init__(self, learner_id, name, course, age):\n",
    "        self.learner_id = learner_id\n",
    "        self.name = name\n",
    "        self.course = course\n",
    "        self.__age = age"
   ]
  },
  {
   "cell_type": "code",
   "execution_count": 13,
   "id": "f468586a",
   "metadata": {},
   "outputs": [],
   "source": [
    "kanth_learner = Learner1(\"BCT123\", \"Kanth\",\"DSCT\",25)"
   ]
  },
  {
   "cell_type": "code",
   "execution_count": 15,
   "id": "26c861e3",
   "metadata": {},
   "outputs": [
    {
     "data": {
      "text/plain": [
       "'Kanth'"
      ]
     },
     "execution_count": 15,
     "metadata": {},
     "output_type": "execute_result"
    }
   ],
   "source": [
    "kanth_learner.name"
   ]
  },
  {
   "cell_type": "code",
   "execution_count": 17,
   "id": "7dc1c118",
   "metadata": {},
   "outputs": [
    {
     "ename": "AttributeError",
     "evalue": "'Learner1' object has no attribute '__age'",
     "output_type": "error",
     "traceback": [
      "\u001b[1;31m---------------------------------------------------------------------------\u001b[0m",
      "\u001b[1;31mAttributeError\u001b[0m                            Traceback (most recent call last)",
      "Cell \u001b[1;32mIn[17], line 1\u001b[0m\n\u001b[1;32m----> 1\u001b[0m kanth_learner\u001b[38;5;241m.\u001b[39m__age\n",
      "\u001b[1;31mAttributeError\u001b[0m: 'Learner1' object has no attribute '__age'"
     ]
    }
   ],
   "source": [
    "kanth_learner.__age"
   ]
  },
  {
   "cell_type": "code",
   "execution_count": 13,
   "id": "62a9fa49",
   "metadata": {},
   "outputs": [
    {
     "name": "stdout",
     "output_type": "stream",
     "text": [
      "['_Learner1__age', '__class__', '__delattr__', '__dict__', '__dir__', '__doc__', '__eq__', '__format__', '__ge__', '__getattribute__', '__gt__', '__hash__', '__init__', '__init_subclass__', '__le__', '__lt__', '__module__', '__ne__', '__new__', '__reduce__', '__reduce_ex__', '__repr__', '__setattr__', '__sizeof__', '__str__', '__subclasshook__', '__weakref__', 'course', 'learner_id', 'name']\n"
     ]
    }
   ],
   "source": [
    "print(dir(kanth_learner))"
   ]
  },
  {
   "cell_type": "code",
   "execution_count": 14,
   "id": "08940bb8",
   "metadata": {},
   "outputs": [
    {
     "data": {
      "text/plain": [
       "25"
      ]
     },
     "execution_count": 14,
     "metadata": {},
     "output_type": "execute_result"
    }
   ],
   "source": [
    "kanth_learner._Learner1__age"
   ]
  },
  {
   "cell_type": "markdown",
   "id": "aefcaf4d",
   "metadata": {},
   "source": [
    "# Getter, Setter & Property"
   ]
  },
  {
   "cell_type": "code",
   "execution_count": 15,
   "id": "37e42eda",
   "metadata": {},
   "outputs": [],
   "source": [
    "class Salary:\n",
    "    def __init__(self, salary):\n",
    "        self._salary = salary\n",
    "        \n",
    "    def get_salary(self):\n",
    "        return self._salary\n",
    "    \n",
    "    def set_salary(self, new_salary):\n",
    "        if isinstance(new_salary, float) and new_salary > 0:\n",
    "            self._salary = new_salary\n",
    "        else:\n",
    "            print(\"Enter Valid Salary\")"
   ]
  },
  {
   "cell_type": "code",
   "execution_count": 16,
   "id": "e0af479f",
   "metadata": {},
   "outputs": [],
   "source": [
    "kanth_salary = Salary(20000)"
   ]
  },
  {
   "cell_type": "code",
   "execution_count": 17,
   "id": "7284cf77",
   "metadata": {},
   "outputs": [
    {
     "data": {
      "text/plain": [
       "20000"
      ]
     },
     "execution_count": 17,
     "metadata": {},
     "output_type": "execute_result"
    }
   ],
   "source": [
    "kanth_salary._salary"
   ]
  },
  {
   "cell_type": "code",
   "execution_count": 18,
   "id": "d6b3b90e",
   "metadata": {},
   "outputs": [
    {
     "data": {
      "text/plain": [
       "20000"
      ]
     },
     "execution_count": 18,
     "metadata": {},
     "output_type": "execute_result"
    }
   ],
   "source": [
    "kanth_salary.get_salary()"
   ]
  },
  {
   "cell_type": "code",
   "execution_count": 19,
   "id": "2a683a83",
   "metadata": {},
   "outputs": [],
   "source": [
    "kanth_salary.set_salary(1000.90)"
   ]
  },
  {
   "cell_type": "code",
   "execution_count": 20,
   "id": "b5b13e5c",
   "metadata": {},
   "outputs": [
    {
     "data": {
      "text/plain": [
       "1000.9"
      ]
     },
     "execution_count": 20,
     "metadata": {},
     "output_type": "execute_result"
    }
   ],
   "source": [
    "kanth_salary.get_salary()"
   ]
  },
  {
   "cell_type": "code",
   "execution_count": 19,
   "id": "c64b95b3",
   "metadata": {},
   "outputs": [],
   "source": [
    "# Implicitly Method Overloading(Parameter Difference) using Decorators.\n",
    "class Salary:\n",
    "    \n",
    "    def __init__(self, salary):\n",
    "        self._salary = salary\n",
    "        \n",
    "    @property\n",
    "    def salary(self):\n",
    "        print(\"Executing Getter\")\n",
    "        return self._salary\n",
    "    \n",
    "    @salary.setter\n",
    "    def salary(self, new_salary):\n",
    "        print(\"Executing Setter\")\n",
    "        if isinstance(new_salary, float) and new_salary > 0:\n",
    "            self._salary = new_salary\n",
    "            \n",
    "        else:\n",
    "            print(\"Enter Valid Salary\")"
   ]
  },
  {
   "cell_type": "code",
   "execution_count": 21,
   "id": "f3743689",
   "metadata": {},
   "outputs": [],
   "source": [
    "kanth_salary = Salary(20000)"
   ]
  },
  {
   "cell_type": "code",
   "execution_count": 23,
   "id": "ca2c3b55",
   "metadata": {},
   "outputs": [
    {
     "name": "stdout",
     "output_type": "stream",
     "text": [
      "Executing Getter\n"
     ]
    },
    {
     "data": {
      "text/plain": [
       "20000"
      ]
     },
     "execution_count": 23,
     "metadata": {},
     "output_type": "execute_result"
    }
   ],
   "source": [
    "kanth_salary.salary"
   ]
  },
  {
   "cell_type": "code",
   "execution_count": 27,
   "id": "0960bcc2",
   "metadata": {},
   "outputs": [
    {
     "name": "stdout",
     "output_type": "stream",
     "text": [
      "Executing Setter\n"
     ]
    }
   ],
   "source": [
    "kanth_salary.salary = 15500.0"
   ]
  },
  {
   "cell_type": "code",
   "execution_count": 29,
   "id": "6913b578",
   "metadata": {},
   "outputs": [
    {
     "name": "stdout",
     "output_type": "stream",
     "text": [
      "Executing Getter\n"
     ]
    },
    {
     "data": {
      "text/plain": [
       "15500.0"
      ]
     },
     "execution_count": 29,
     "metadata": {},
     "output_type": "execute_result"
    }
   ],
   "source": [
    "kanth_salary.salary"
   ]
  },
  {
   "cell_type": "markdown",
   "id": "b3410944",
   "metadata": {},
   "source": [
    "# Aggregation vs Composition"
   ]
  },
  {
   "cell_type": "markdown",
   "id": "b0a004ec",
   "metadata": {},
   "source": [
    "Aggregation: Aggregation is a \"has a\" relationship. An instance of class B \n",
    "has an instance of Class A but they can exist independently (Pass the object as a Class Parameter by creating the object outside the scope of the class.)\n",
    "\n",
    "Composition: A composed object cannot exist without the object that contains it.\n",
    "(Pass the Class object inside anothe class.)"
   ]
  },
  {
   "cell_type": "code",
   "execution_count": 27,
   "id": "1ca3c2d6",
   "metadata": {},
   "outputs": [],
   "source": [
    "#Example of Aggregation:\n",
    "\n",
    "class BmiCalc():\n",
    "    \n",
    "    def __init__(self, weight, height):\n",
    "        self.weight = weight\n",
    "        self.height = height\n",
    "        \n",
    "    def bmi(self):\n",
    "        BMI = self.weight/(self.height*self.height)\n",
    "        if BMI <=18.5:\n",
    "            print(\"Underweight\")\n",
    "        elif BMI >18.5 and BMI < 24.99:\n",
    "            print(\"Normal Weight\")\n",
    "        elif BMI > 25 and BMI < 29.99:\n",
    "            print(\"Over Weight\")\n",
    "        else:\n",
    "            print(\"BMI Calculated\", BMI )\n",
    "            print(\"Obesity\")\n",
    "            \n",
    "class GymMember:\n",
    "    def __init__(self,name, mbmi):\n",
    "        self.name = name\n",
    "        self.mbmi = mbmi\n",
    "    \n",
    "    def show_bmi(self):\n",
    "        self.mbmi.bmi()"
   ]
  },
  {
   "cell_type": "code",
   "execution_count": 28,
   "id": "9b358ae3",
   "metadata": {},
   "outputs": [],
   "source": [
    "mem_bmi = BmiCalc(79, 1.89)"
   ]
  },
  {
   "cell_type": "code",
   "execution_count": 29,
   "id": "73944aed",
   "metadata": {},
   "outputs": [],
   "source": [
    "kanth = GymMember(\"Kanth\",mem_bmi)"
   ]
  },
  {
   "cell_type": "code",
   "execution_count": 30,
   "id": "9990b2c9",
   "metadata": {},
   "outputs": [
    {
     "name": "stdout",
     "output_type": "stream",
     "text": [
      "Normal Weight\n"
     ]
    }
   ],
   "source": [
    "kanth.show_bmi()"
   ]
  },
  {
   "cell_type": "markdown",
   "id": "f7691abc",
   "metadata": {},
   "source": [
    "# Inheritance"
   ]
  },
  {
   "cell_type": "code",
   "execution_count": 32,
   "id": "447f8ff7",
   "metadata": {},
   "outputs": [],
   "source": [
    "class BankEmi():\n",
    "    \n",
    "    def __init__(self, salary, emi):\n",
    "        self.salary = salary\n",
    "        self.emi = emi\n",
    "    \n",
    "    def apcheck(self):\n",
    "        if self.salary > self.emi:\n",
    "            print(\"Loan can be approved\")\n",
    "        else:\n",
    "            print(\"Loan cannot be approved\")\n",
    "class AnotherBank(BankEmi):\n",
    "    pass"
   ]
  },
  {
   "cell_type": "code",
   "execution_count": 34,
   "id": "c70d5267",
   "metadata": {},
   "outputs": [],
   "source": [
    "xbank = AnotherBank(10000,5000)"
   ]
  },
  {
   "cell_type": "code",
   "execution_count": 36,
   "id": "d1d48b1c",
   "metadata": {},
   "outputs": [
    {
     "data": {
      "text/plain": [
       "10000"
      ]
     },
     "execution_count": 36,
     "metadata": {},
     "output_type": "execute_result"
    }
   ],
   "source": [
    "xbank.salary"
   ]
  },
  {
   "cell_type": "code",
   "execution_count": 38,
   "id": "dd1cb9c4",
   "metadata": {},
   "outputs": [
    {
     "name": "stdout",
     "output_type": "stream",
     "text": [
      "Loan can be approved\n"
     ]
    }
   ],
   "source": [
    "xbank.apcheck()"
   ]
  },
  {
   "cell_type": "code",
   "execution_count": 40,
   "id": "f8ada347",
   "metadata": {},
   "outputs": [],
   "source": [
    "class BankEmi():\n",
    "    \n",
    "    def __init__(self, salary, emi):\n",
    "        self.salary = salary\n",
    "        self.emi = emi\n",
    "    \n",
    "    def apcheck(self):\n",
    "        if self.salary > self.emi:\n",
    "            print(\"Loan can be approved\")\n",
    "        else:\n",
    "            print(\"Loan cannot be approved\")\n",
    "class AnotherBank(BankEmi):\n",
    "    def __init__(self, cibil, loan):\n",
    "        self.cibil = cibil\n",
    "        self.loan = loan"
   ]
  },
  {
   "cell_type": "code",
   "execution_count": 42,
   "id": "e62eb026",
   "metadata": {},
   "outputs": [],
   "source": [
    "ybank = AnotherBank(800,100)"
   ]
  },
  {
   "cell_type": "code",
   "execution_count": 44,
   "id": "89999d70",
   "metadata": {},
   "outputs": [
    {
     "data": {
      "text/plain": [
       "100"
      ]
     },
     "execution_count": 44,
     "metadata": {},
     "output_type": "execute_result"
    }
   ],
   "source": [
    "ybank.loan"
   ]
  },
  {
   "cell_type": "code",
   "execution_count": 46,
   "id": "46e2e153",
   "metadata": {},
   "outputs": [
    {
     "ename": "AttributeError",
     "evalue": "'AnotherBank' object has no attribute 'salary'",
     "output_type": "error",
     "traceback": [
      "\u001b[1;31m---------------------------------------------------------------------------\u001b[0m",
      "\u001b[1;31mAttributeError\u001b[0m                            Traceback (most recent call last)",
      "Cell \u001b[1;32mIn[46], line 1\u001b[0m\n\u001b[1;32m----> 1\u001b[0m ybank\u001b[38;5;241m.\u001b[39msalary\n",
      "\u001b[1;31mAttributeError\u001b[0m: 'AnotherBank' object has no attribute 'salary'"
     ]
    }
   ],
   "source": [
    "ybank.salary"
   ]
  },
  {
   "cell_type": "markdown",
   "id": "b5f82ded",
   "metadata": {},
   "source": [
    "If the Subclasss has its own __init__() method, the attributes\n",
    "of the superclass are not inherited automatically"
   ]
  },
  {
   "cell_type": "code",
   "execution_count": 48,
   "id": "8b9da0c3",
   "metadata": {},
   "outputs": [],
   "source": [
    "class BankEmi():\n",
    "    \n",
    "    def __init__(self, salary, emi):\n",
    "        self.salary = salary\n",
    "        self.emi = emi\n",
    "    \n",
    "    def apcheck(self):\n",
    "        if self.salary > self.emi:\n",
    "            print(\"Loan can be approved\")\n",
    "        else:\n",
    "            print(\"Loan cannot be approved\")\n",
    "            \n",
    "            \n",
    "class AnotherBank(BankEmi):\n",
    "    \n",
    "    def __init__(self, cibil, loan, salary, emi):\n",
    "        BankEmi.__init__(self, salary, emi)\n",
    "        self.cibil = cibil\n",
    "        self.loan = loan"
   ]
  },
  {
   "cell_type": "code",
   "execution_count": 50,
   "id": "77c8bd29",
   "metadata": {},
   "outputs": [],
   "source": [
    "ybank = AnotherBank(800,100000, 30000, 20000)"
   ]
  },
  {
   "cell_type": "code",
   "execution_count": 52,
   "id": "0c0aa3eb",
   "metadata": {},
   "outputs": [
    {
     "data": {
      "text/plain": [
       "30000"
      ]
     },
     "execution_count": 52,
     "metadata": {},
     "output_type": "execute_result"
    }
   ],
   "source": [
    "ybank.salary"
   ]
  },
  {
   "cell_type": "code",
   "execution_count": 54,
   "id": "381cbfe0",
   "metadata": {},
   "outputs": [
    {
     "data": {
      "text/plain": [
       "20000"
      ]
     },
     "execution_count": 54,
     "metadata": {},
     "output_type": "execute_result"
    }
   ],
   "source": [
    "ybank.emi"
   ]
  },
  {
   "cell_type": "code",
   "execution_count": 56,
   "id": "7149d47d",
   "metadata": {},
   "outputs": [
    {
     "data": {
      "text/plain": [
       "800"
      ]
     },
     "execution_count": 56,
     "metadata": {},
     "output_type": "execute_result"
    }
   ],
   "source": [
    "ybank.cibil"
   ]
  },
  {
   "cell_type": "code",
   "execution_count": 58,
   "id": "13043580",
   "metadata": {},
   "outputs": [
    {
     "data": {
      "text/plain": [
       "100000"
      ]
     },
     "execution_count": 58,
     "metadata": {},
     "output_type": "execute_result"
    }
   ],
   "source": [
    "ybank.loan"
   ]
  },
  {
   "cell_type": "code",
   "execution_count": 53,
   "id": "a7f05723",
   "metadata": {},
   "outputs": [],
   "source": [
    "class BankEmi():\n",
    "    \n",
    "    def __init__(self, salary, emi):\n",
    "        self.salary = salary\n",
    "        self.emi = emi\n",
    "    \n",
    "    def apcheck(self):\n",
    "        if self.salary > self.emi:\n",
    "            print(\"Loan can be approved\")\n",
    "        else:\n",
    "            print(\"Loan cannot be approved\")\n",
    "            \n",
    "            \n",
    "class AnotherBank(BankEmi):\n",
    "    \n",
    "    def __init__(self, cibil, loan, salary, emi):\n",
    "        super().__init__(salary, emi)\n",
    "        self.cibil = cibil\n",
    "        self.loan = loan"
   ]
  },
  {
   "cell_type": "code",
   "execution_count": 54,
   "id": "cedbf8fa",
   "metadata": {},
   "outputs": [],
   "source": [
    "ybank = AnotherBank(800,100000, 30000, 20000)"
   ]
  },
  {
   "cell_type": "code",
   "execution_count": 55,
   "id": "6f3b62b1",
   "metadata": {},
   "outputs": [
    {
     "data": {
      "text/plain": [
       "30000"
      ]
     },
     "execution_count": 55,
     "metadata": {},
     "output_type": "execute_result"
    }
   ],
   "source": [
    "ybank.salary"
   ]
  },
  {
   "cell_type": "code",
   "execution_count": 56,
   "id": "938d4652",
   "metadata": {},
   "outputs": [
    {
     "data": {
      "text/plain": [
       "20000"
      ]
     },
     "execution_count": 56,
     "metadata": {},
     "output_type": "execute_result"
    }
   ],
   "source": [
    "ybank.emi"
   ]
  },
  {
   "cell_type": "code",
   "execution_count": 58,
   "id": "1fe0f835",
   "metadata": {},
   "outputs": [],
   "source": [
    "class BankEmi():\n",
    "    \n",
    "    def __init__(self, salary, emi):\n",
    "        self.salary = salary\n",
    "        self.emi = emi\n",
    "    \n",
    "    def apcheck(self):\n",
    "        if self.salary > self.emi:\n",
    "            print(\"Loan can be approved\")\n",
    "        else:\n",
    "            print(\"Loan cannot be approved\")\n",
    "            \n",
    "            \n",
    "class AnotherBank(BankEmi):\n",
    "    \n",
    "    def __init__(self, cibil, loan, salary, emi):\n",
    "        super().__init__(salary, emi)\n",
    "        self.cibil = cibil\n",
    "        self.loan = loan\n",
    "        \n",
    "    def elig(self):\n",
    "        if self.cibil > 650 and self.loan < 150000:\n",
    "            print(\"Loan Approved\")\n",
    "        else:\n",
    "            print(\"Loan Rejected\")"
   ]
  },
  {
   "cell_type": "code",
   "execution_count": 59,
   "id": "7673b0ab",
   "metadata": {},
   "outputs": [],
   "source": [
    "ybank = AnotherBank(500,100000, 30000, 20000)"
   ]
  },
  {
   "cell_type": "code",
   "execution_count": 60,
   "id": "e015484e",
   "metadata": {},
   "outputs": [
    {
     "name": "stdout",
     "output_type": "stream",
     "text": [
      "Loan can be approved\n"
     ]
    }
   ],
   "source": [
    "ybank.apcheck()"
   ]
  },
  {
   "cell_type": "code",
   "execution_count": null,
   "id": "bdf500fe",
   "metadata": {},
   "outputs": [],
   "source": [
    "ybank.elig()"
   ]
  },
  {
   "cell_type": "markdown",
   "id": "c18e1c6d",
   "metadata": {},
   "source": [
    "# Method Overriding:"
   ]
  },
  {
   "cell_type": "markdown",
   "id": "af8c5e49",
   "metadata": {},
   "source": [
    "Method Overriding: Method overriding is an ability of any object-oriented \n",
    "programming language that allows a subclass or child class to provide a \n",
    "specific implementation of a method that is already provided by one of \n",
    "its super-classes or parent classes. \n",
    "\n",
    "Method Overloading: Two methods in the same class have the same name but different parameters, so when you call the method, the version that is executed is determined by the data types of the arguments or by the number of arguments"
   ]
  },
  {
   "cell_type": "code",
   "execution_count": 60,
   "id": "ce7b982e",
   "metadata": {},
   "outputs": [],
   "source": [
    "#Example of Method Overriding\n",
    "class BepecCt:\n",
    "    \n",
    "    def __init__(self):\n",
    "        self.topics = []\n",
    "        \n",
    "    def add_lectures(self, session):\n",
    "        print(f\"Adding {session.capitalize()} lecture to the Dashboard\")\n",
    "        self.topics.append(session)\n",
    "        print(f\"{session.capitalize()} was added into the Dashboard.\")  \n",
    "\n",
    "class KanthCt(BepecCt):\n",
    "              \n",
    "    def add_lectures(self, session):\n",
    "        print(\"Notification! Your Dashboard got Unlocked with New Lecture\")\n",
    "        BepecCt.add_lectures(self,session)\n",
    "        print(\"List of Sessions:\", self.topics)\n",
    "              \n",
    "    "
   ]
  },
  {
   "cell_type": "code",
   "execution_count": 62,
   "id": "31a76740",
   "metadata": {},
   "outputs": [],
   "source": [
    "dslectures = KanthCt()"
   ]
  },
  {
   "cell_type": "code",
   "execution_count": 64,
   "id": "a0c5831e",
   "metadata": {},
   "outputs": [
    {
     "name": "stdout",
     "output_type": "stream",
     "text": [
      "Notification! Your Dashboard got Unlocked with New Lecture\n",
      "Adding Python lecture to the Dashboard\n",
      "Python was added into the Dashboard.\n",
      "List of Sessions: ['python']\n"
     ]
    }
   ],
   "source": [
    "dslectures.add_lectures(\"python\")"
   ]
  },
  {
   "cell_type": "code",
   "execution_count": 66,
   "id": "0d17b6fd",
   "metadata": {},
   "outputs": [
    {
     "name": "stdout",
     "output_type": "stream",
     "text": [
      "Notification! Your Dashboard got Unlocked with New Lecture\n",
      "Adding Oops lecture to the Dashboard\n",
      "Oops was added into the Dashboard.\n",
      "List of Sessions: ['python', 'OOPS']\n"
     ]
    }
   ],
   "source": [
    "dslectures.add_lectures(\"OOPS\")"
   ]
  },
  {
   "cell_type": "code",
   "execution_count": 68,
   "id": "46477fc0",
   "metadata": {},
   "outputs": [
    {
     "name": "stdout",
     "output_type": "stream",
     "text": [
      "Notification! Your Dashboard got Unlocked with New Lecture\n",
      "Adding Tableau lecture to the Dashboard\n",
      "Tableau was added into the Dashboard.\n",
      "List of Sessions: ['python', 'OOPS', 'Tableau']\n"
     ]
    }
   ],
   "source": [
    "dslectures.add_lectures(\"Tableau\")"
   ]
  },
  {
   "cell_type": "markdown",
   "id": "b7862ae3",
   "metadata": {},
   "source": [
    "# Polymorphism"
   ]
  },
  {
   "cell_type": "code",
   "execution_count": 70,
   "id": "6f55bf77",
   "metadata": {},
   "outputs": [],
   "source": [
    "class File:\n",
    "    def __init__(self, name, extension):\n",
    "        self.name = name\n",
    "        self.extension = extension\n",
    "        \n",
    "    def open():\n",
    "        print(\"Opening a regular file\")\n",
    "        \n",
    "class PdfFile(File):\n",
    "    \n",
    "    def __init__(self, name):\n",
    "        super().__init__(name, \".pdf\")\n",
    "        \n",
    "    def open(self):\n",
    "        File.open() #Common Feature from Parent Class\n",
    "        print(\"Opening a PDF file\")\n",
    "        \n",
    "class TextFile(File):\n",
    "    def __init__(self,name):\n",
    "        super().__init__(name, \".txt\")\n",
    "    def open(self):\n",
    "        File.open() #Common Feature from Parent Class\n",
    "        print(\"Opening a Text File\")"
   ]
  },
  {
   "cell_type": "code",
   "execution_count": 72,
   "id": "e93ccd8f",
   "metadata": {},
   "outputs": [],
   "source": [
    "pdf1 = PdfFile(\"OOPS\")"
   ]
  },
  {
   "cell_type": "code",
   "execution_count": 74,
   "id": "3e9c952b",
   "metadata": {},
   "outputs": [
    {
     "name": "stdout",
     "output_type": "stream",
     "text": [
      "Opening a regular file\n",
      "Opening a PDF file\n"
     ]
    }
   ],
   "source": [
    "pdf1.open()"
   ]
  },
  {
   "cell_type": "code",
   "execution_count": 76,
   "id": "28f11029",
   "metadata": {},
   "outputs": [],
   "source": [
    "text1 = TextFile(\"Polymorphism\")"
   ]
  },
  {
   "cell_type": "code",
   "execution_count": 78,
   "id": "0d03bb4a",
   "metadata": {},
   "outputs": [
    {
     "name": "stdout",
     "output_type": "stream",
     "text": [
      "Opening a regular file\n",
      "Opening a Text File\n"
     ]
    }
   ],
   "source": [
    "text1.open()"
   ]
  },
  {
   "cell_type": "code",
   "execution_count": null,
   "id": "b0a4fb20",
   "metadata": {},
   "outputs": [],
   "source": []
  },
  {
   "cell_type": "code",
   "execution_count": null,
   "id": "df29cffa",
   "metadata": {},
   "outputs": [],
   "source": []
  }
 ],
 "metadata": {
  "kernelspec": {
   "display_name": "Python 3 (ipykernel)",
   "language": "python",
   "name": "python3"
  },
  "language_info": {
   "codemirror_mode": {
    "name": "ipython",
    "version": 3
   },
   "file_extension": ".py",
   "mimetype": "text/x-python",
   "name": "python",
   "nbconvert_exporter": "python",
   "pygments_lexer": "ipython3",
   "version": "3.12.4"
  }
 },
 "nbformat": 4,
 "nbformat_minor": 5
}
