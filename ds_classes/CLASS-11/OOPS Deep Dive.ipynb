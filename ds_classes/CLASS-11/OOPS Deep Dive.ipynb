{
 "cells": [
  {
   "cell_type": "code",
   "execution_count": 2,
   "id": "94de4e8d",
   "metadata": {},
   "outputs": [],
   "source": [
    "class BmiCalculator():\n",
    "    pass"
   ]
  },
  {
   "cell_type": "code",
   "execution_count": 3,
   "id": "bd3bc8cc",
   "metadata": {},
   "outputs": [],
   "source": [
    "my_bmi = BmiCalculator() #Creating an instance(Object) of the Class named \"BmiCalculator\""
   ]
  },
  {
   "cell_type": "code",
   "execution_count": 3,
   "id": "e9648d16",
   "metadata": {},
   "outputs": [
    {
     "name": "stdout",
     "output_type": "stream",
     "text": [
      "<__main__.BmiCalculator object at 0x0000016E1C3462E0>\n"
     ]
    }
   ],
   "source": [
    "print(my_bmi)"
   ]
  },
  {
   "cell_type": "code",
   "execution_count": null,
   "id": "b7976f1d",
   "metadata": {},
   "outputs": [],
   "source": [
    "variable = r356\n",
    "variable\n",
    "\n",
    "\n",
    "def main_func(var1, var2):\n",
    "    summ1 = var1 + var2\n",
    "    return summ1\n",
    "\n",
    "main_func(10,29)"
   ]
  },
  {
   "cell_type": "code",
   "execution_count": 3,
   "id": "bc106540",
   "metadata": {},
   "outputs": [],
   "source": [
    "class BmiCalculator():\n",
    "    \n",
    "    #Constructor\n",
    "    def __init__(self, weight, height):\n",
    "        self.weight = weight+17\n",
    "        self.height = height+368"
   ]
  },
  {
   "cell_type": "code",
   "execution_count": 5,
   "id": "7b7cdfe7",
   "metadata": {},
   "outputs": [],
   "source": [
    "kanth_bmi = BmiCalculator(69,1.79)"
   ]
  },
  {
   "cell_type": "code",
   "execution_count": 7,
   "id": "ac1cd3f1",
   "metadata": {},
   "outputs": [
    {
     "name": "stdout",
     "output_type": "stream",
     "text": [
      "<__main__.BmiCalculator object at 0x0000021168C942C0>\n"
     ]
    }
   ],
   "source": [
    "print(kanth_bmi)"
   ]
  },
  {
   "cell_type": "code",
   "execution_count": 9,
   "id": "52da707a",
   "metadata": {},
   "outputs": [
    {
     "name": "stdout",
     "output_type": "stream",
     "text": [
      "86\n"
     ]
    }
   ],
   "source": [
    "print(kanth_bmi.weight)"
   ]
  },
  {
   "cell_type": "code",
   "execution_count": 11,
   "id": "b1ed5bf2",
   "metadata": {},
   "outputs": [
    {
     "name": "stdout",
     "output_type": "stream",
     "text": [
      "369.79\n"
     ]
    }
   ],
   "source": [
    "print(kanth_bmi.height)"
   ]
  },
  {
   "cell_type": "code",
   "execution_count": 6,
   "id": "2d90cdcc",
   "metadata": {},
   "outputs": [],
   "source": [
    "kanth_bmi.height = 1.89"
   ]
  },
  {
   "cell_type": "code",
   "execution_count": 7,
   "id": "81b0c388",
   "metadata": {},
   "outputs": [
    {
     "name": "stdout",
     "output_type": "stream",
     "text": [
      "1.89\n"
     ]
    }
   ],
   "source": [
    "print(kanth_bmi.height)"
   ]
  },
  {
   "cell_type": "code",
   "execution_count": 12,
   "id": "7e3e4391",
   "metadata": {},
   "outputs": [],
   "source": [
    "class BmiCalculator():\n",
    "    \n",
    "    #Class Attribute\n",
    "    age = 25\n",
    "    \n",
    "    def __init__(self, weight, height):\n",
    "        self.weight = weight\n",
    "        self.height = height"
   ]
  },
  {
   "cell_type": "code",
   "execution_count": 13,
   "id": "74d3bef0",
   "metadata": {},
   "outputs": [],
   "source": [
    "my_kanth = BmiCalculator(79,1.89)"
   ]
  },
  {
   "cell_type": "code",
   "execution_count": 14,
   "id": "573e44a3",
   "metadata": {},
   "outputs": [
    {
     "data": {
      "text/plain": [
       "25"
      ]
     },
     "execution_count": 14,
     "metadata": {},
     "output_type": "execute_result"
    }
   ],
   "source": [
    "my_kanth.age"
   ]
  },
  {
   "cell_type": "code",
   "execution_count": 15,
   "id": "fa600fe1",
   "metadata": {},
   "outputs": [],
   "source": [
    "my_kanth.age = 35"
   ]
  },
  {
   "cell_type": "code",
   "execution_count": 16,
   "id": "8991e6d8",
   "metadata": {},
   "outputs": [
    {
     "data": {
      "text/plain": [
       "35"
      ]
     },
     "execution_count": 16,
     "metadata": {},
     "output_type": "execute_result"
    }
   ],
   "source": [
    "my_kanth.age"
   ]
  },
  {
   "cell_type": "code",
   "execution_count": 13,
   "id": "9cc9c878",
   "metadata": {},
   "outputs": [],
   "source": [
    "class BmiCalculator1():\n",
    "    \n",
    "    more_calories = 1\n",
    "    \n",
    "    def __init__(self,weight, height):\n",
    "        self.id = BmiCalculator1.more_calories\n",
    "        self.weight = weight\n",
    "        self.height = height\n",
    "        \n",
    "        BmiCalculator1.more_calories +=1"
   ]
  },
  {
   "cell_type": "code",
   "execution_count": 15,
   "id": "cb5a04dd",
   "metadata": {},
   "outputs": [],
   "source": [
    "kanth1_bmi = BmiCalculator1(70, 1.89)"
   ]
  },
  {
   "cell_type": "code",
   "execution_count": 17,
   "id": "e34eb631",
   "metadata": {},
   "outputs": [
    {
     "data": {
      "text/plain": [
       "1"
      ]
     },
     "execution_count": 17,
     "metadata": {},
     "output_type": "execute_result"
    }
   ],
   "source": [
    "kanth1_bmi.id"
   ]
  },
  {
   "cell_type": "code",
   "execution_count": 19,
   "id": "a7182aff",
   "metadata": {},
   "outputs": [
    {
     "data": {
      "text/plain": [
       "2"
      ]
     },
     "execution_count": 19,
     "metadata": {},
     "output_type": "execute_result"
    }
   ],
   "source": [
    "kanth1_bmi.more_calories"
   ]
  },
  {
   "cell_type": "code",
   "execution_count": 21,
   "id": "83f75999",
   "metadata": {},
   "outputs": [],
   "source": [
    "kanth2_bmi = BmiCalculator1(77, 1.99)"
   ]
  },
  {
   "cell_type": "code",
   "execution_count": 23,
   "id": "54fbafbc",
   "metadata": {},
   "outputs": [
    {
     "data": {
      "text/plain": [
       "2"
      ]
     },
     "execution_count": 23,
     "metadata": {},
     "output_type": "execute_result"
    }
   ],
   "source": [
    "kanth2_bmi.id"
   ]
  },
  {
   "cell_type": "code",
   "execution_count": 25,
   "id": "29ae388f",
   "metadata": {},
   "outputs": [
    {
     "data": {
      "text/plain": [
       "3"
      ]
     },
     "execution_count": 25,
     "metadata": {},
     "output_type": "execute_result"
    }
   ],
   "source": [
    "kanth2_bmi.more_calories"
   ]
  },
  {
   "cell_type": "code",
   "execution_count": 27,
   "id": "256e37ed",
   "metadata": {},
   "outputs": [],
   "source": [
    "class BankLoan():\n",
    "    \n",
    "    def __init__(self, salary, emi):\n",
    "        self.salary = salary\n",
    "        self.emi = emi\n",
    "        \n",
    "    def cond(self):\n",
    "        if self.salary > self.emi:\n",
    "            print(\"Loan can be approved\")\n",
    "        else:\n",
    "            print(\"Loan cannot be approved\")"
   ]
  },
  {
   "cell_type": "code",
   "execution_count": 29,
   "id": "def7562f",
   "metadata": {},
   "outputs": [
    {
     "name": "stdout",
     "output_type": "stream",
     "text": [
      "Loan can be approved\n"
     ]
    }
   ],
   "source": [
    "salary = 10000\n",
    "emi = 5000\n",
    "\n",
    "if salary > emi:\n",
    "    print(\"Loan can be approved\")\n",
    "else:\n",
    "    print(\"Loan cannot be approved\")"
   ]
  },
  {
   "cell_type": "code",
   "execution_count": 31,
   "id": "09d29fed",
   "metadata": {},
   "outputs": [],
   "source": [
    "class BankEmi():\n",
    "    \n",
    "    def __init__(self, salary, emi):\n",
    "        self.salary = salary\n",
    "        self.emi = emi\n",
    "    \n",
    "    def apcheck(self):\n",
    "        if self.salary > self.emi:\n",
    "            print(\"Loan can be approved\")\n",
    "        else:\n",
    "            print(\"Loan cannot be approved\")\n",
    "    "
   ]
  },
  {
   "cell_type": "code",
   "execution_count": 33,
   "id": "071eab04",
   "metadata": {},
   "outputs": [],
   "source": [
    "raju_emi = BankEmi(10000,5000)"
   ]
  },
  {
   "cell_type": "code",
   "execution_count": 35,
   "id": "04af7770",
   "metadata": {},
   "outputs": [
    {
     "name": "stdout",
     "output_type": "stream",
     "text": [
      "Loan can be approved\n"
     ]
    }
   ],
   "source": [
    "raju_emi.apcheck()"
   ]
  },
  {
   "cell_type": "code",
   "execution_count": 37,
   "id": "a3758b66",
   "metadata": {},
   "outputs": [
    {
     "data": {
      "text/plain": [
       "10000"
      ]
     },
     "execution_count": 37,
     "metadata": {},
     "output_type": "execute_result"
    }
   ],
   "source": [
    "raju_emi.salary"
   ]
  },
  {
   "cell_type": "code",
   "execution_count": 39,
   "id": "f64dde2a",
   "metadata": {},
   "outputs": [],
   "source": [
    "raju_emi.emi = 10000"
   ]
  },
  {
   "cell_type": "code",
   "execution_count": 41,
   "id": "9dd031c0",
   "metadata": {},
   "outputs": [
    {
     "data": {
      "text/plain": [
       "10000"
      ]
     },
     "execution_count": 41,
     "metadata": {},
     "output_type": "execute_result"
    }
   ],
   "source": [
    "raju_emi.emi"
   ]
  },
  {
   "cell_type": "code",
   "execution_count": null,
   "id": "ffd06c50",
   "metadata": {},
   "outputs": [],
   "source": []
  },
  {
   "cell_type": "code",
   "execution_count": 43,
   "id": "78d3172a",
   "metadata": {},
   "outputs": [],
   "source": [
    "my_loan = BankLoan(20000,20000)"
   ]
  },
  {
   "cell_type": "code",
   "execution_count": 45,
   "id": "9e905f75",
   "metadata": {},
   "outputs": [
    {
     "name": "stdout",
     "output_type": "stream",
     "text": [
      "Loan cannot be approved\n"
     ]
    }
   ],
   "source": [
    "my_loan.cond()"
   ]
  },
  {
   "cell_type": "code",
   "execution_count": 47,
   "id": "11df44c6",
   "metadata": {},
   "outputs": [],
   "source": [
    "class BmiCalc():\n",
    "    \n",
    "    def __init__(self, weight, height):\n",
    "        self.weight = weight\n",
    "        self.height = height\n",
    "        \n",
    "    def bmi(self):\n",
    "        BMI = self.weight/(self.height*self.height)\n",
    "        if BMI <=18.5:\n",
    "            print(\"Underweight\")\n",
    "        elif BMI >18.5 and BMI < 24.99:\n",
    "            print(\"Normal Weight\")\n",
    "        elif BMI > 25 and BMI < 29.99:\n",
    "            print(\"Over Weight\")\n",
    "        else:\n",
    "            print(\"BMI Calculated\", BMI )\n",
    "            print(\"Obesity\")"
   ]
  },
  {
   "cell_type": "code",
   "execution_count": 49,
   "id": "c9286afa",
   "metadata": {},
   "outputs": [],
   "source": [
    "kanth_bmi = BmiCalc(100,1.69)"
   ]
  },
  {
   "cell_type": "code",
   "execution_count": 51,
   "id": "0971bf89",
   "metadata": {},
   "outputs": [
    {
     "name": "stdout",
     "output_type": "stream",
     "text": [
      "BMI Calculated 35.01277966457757\n",
      "Obesity\n"
     ]
    }
   ],
   "source": [
    "kanth_bmi.bmi()"
   ]
  },
  {
   "cell_type": "code",
   "execution_count": 53,
   "id": "6406bc16",
   "metadata": {},
   "outputs": [],
   "source": [
    "class BankLoan():\n",
    "    \n",
    "    def __init__(self, salary, emi):\n",
    "        self.salary = salary\n",
    "        self.emi = emi\n",
    "        \n",
    "    def cond(self):\n",
    "        if self.salary > self.emi:\n",
    "            print(\"Loan can be approved\")\n",
    "        else:\n",
    "            print(\"Loan cannot be approved\")\n",
    "        \n",
    "    def margin(self):\n",
    "        if self.salary > self.emi:\n",
    "            margin = self.salary - self.emi\n",
    "            print(\"Margin Amount\", margin)\n",
    "        else:\n",
    "            print(\"Loan cannot be approved\")\n",
    "        "
   ]
  },
  {
   "cell_type": "code",
   "execution_count": 38,
   "id": "df34fda4",
   "metadata": {},
   "outputs": [],
   "source": [
    "Gaurav1_loan = BankLoan(10000,9000)"
   ]
  },
  {
   "cell_type": "code",
   "execution_count": 40,
   "id": "31ec6253",
   "metadata": {},
   "outputs": [
    {
     "name": "stdout",
     "output_type": "stream",
     "text": [
      "Loan can be approved\n"
     ]
    }
   ],
   "source": [
    "Gaurav1_loan.cond()"
   ]
  },
  {
   "cell_type": "code",
   "execution_count": 41,
   "id": "e99b95f6",
   "metadata": {},
   "outputs": [
    {
     "name": "stdout",
     "output_type": "stream",
     "text": [
      "Margin Amount 1000\n"
     ]
    }
   ],
   "source": [
    "Gaurav1_loan.margin()"
   ]
  },
  {
   "cell_type": "code",
   "execution_count": 42,
   "id": "908c5e8d",
   "metadata": {},
   "outputs": [
    {
     "name": "stdout",
     "output_type": "stream",
     "text": [
      "Margin Amount 1000\n"
     ]
    }
   ],
   "source": [
    "Gaurav1_loan.margin()"
   ]
  },
  {
   "cell_type": "code",
   "execution_count": 43,
   "id": "a14ab132",
   "metadata": {},
   "outputs": [
    {
     "name": "stdout",
     "output_type": "stream",
     "text": [
      "Loan can be approved\n"
     ]
    }
   ],
   "source": [
    "Gaurav1_loan.cond()"
   ]
  },
  {
   "cell_type": "code",
   "execution_count": null,
   "id": "2b6b0062",
   "metadata": {},
   "outputs": [],
   "source": [
    "Assignment 1:\n",
    "    1. WAP to check if a string is pallindrome or not.\n",
    "    2. WAP to check if a nunber is armstrong.\n",
    "    3. WAP to check if a number is magic number.\n",
    "    4. *\n",
    "       **\n",
    "       ***\n",
    "       ****\n",
    "       *****\n",
    "    \n",
    "    5. ******\n",
    "        *****\n",
    "         ****\n",
    "          ***\n",
    "           **\n",
    "            *"
   ]
  },
  {
   "cell_type": "code",
   "execution_count": 22,
   "id": "b5c39963",
   "metadata": {},
   "outputs": [
    {
     "name": "stdout",
     "output_type": "stream",
     "text": [
      "* * * \n",
      "* * * \n",
      "* * * \n",
      "* * * \n",
      "* * * \n"
     ]
    }
   ],
   "source": [
    "for i in range(5): #row\n",
    "    for j in range(3): #column\n",
    "        print(\"*\",end = \" \")\n",
    "    print()"
   ]
  },
  {
   "cell_type": "code",
   "execution_count": null,
   "id": "afefc8a6",
   "metadata": {},
   "outputs": [],
   "source": []
  }
 ],
 "metadata": {
  "kernelspec": {
   "display_name": "Python 3 (ipykernel)",
   "language": "python",
   "name": "python3"
  },
  "language_info": {
   "codemirror_mode": {
    "name": "ipython",
    "version": 3
   },
   "file_extension": ".py",
   "mimetype": "text/x-python",
   "name": "python",
   "nbconvert_exporter": "python",
   "pygments_lexer": "ipython3",
   "version": "3.12.4"
  }
 },
 "nbformat": 4,
 "nbformat_minor": 5
}
