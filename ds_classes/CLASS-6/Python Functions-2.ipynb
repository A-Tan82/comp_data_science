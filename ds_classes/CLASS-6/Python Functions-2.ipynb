{
 "cells": [
  {
   "cell_type": "code",
   "execution_count": null,
   "metadata": {},
   "outputs": [],
   "source": [
    "# There are 3 types of functions in Python:\n",
    "\n",
    "# 1. Built-in functions, such as \n",
    "#     help() to ask for help\n",
    "#     min() to get the minimum value\n",
    "#     print() to print an object to the terminal\n",
    "\n",
    "# 2. User-Defined Functions (UDFs), which are functions that users create \n",
    "\n",
    "# 3. Anonymous functions, which are also called lambda functions because \n",
    "#    they are not declared with the standard def keyword."
   ]
  },
  {
   "cell_type": "code",
   "execution_count": null,
   "metadata": {},
   "outputs": [],
   "source": [
    "# How To Define A Function: User-Defined Functions (UDFs)\n",
    "# The 4 steps to defining a function in Python are the following:\n",
    "\n",
    "# 1. Use the keyword def to declare the function and follow this up with the function name.\n",
    "# 2. Add parameters to the function: they should be within the parentheses of the function. \n",
    "#    End your line with a colon.\n",
    "# 3. Add statements that the functions should execute.\n",
    "# 4. End your function with a return statement if the function should output something. \n",
    "#    Without the return statement, your function will return an object None."
   ]
  },
  {
   "cell_type": "code",
   "execution_count": null,
   "metadata": {},
   "outputs": [],
   "source": [
    "#1 Function Definition: Creation of the function/module: has the same functionality but different output for different input.\n",
    "def add_func(a,b,c):\n",
    "    summ = a+b+c\n",
    "    #print(\"Print statement:\",summ)\n",
    "    return summ\n",
    "    #print(\"cshbcskjb\")\n",
    "    #return a+b+c\n",
    "\n",
    "#2 Function Call:\n",
    "output = add_func(100,2300,27)\n",
    "print(\"From return statement:\",output)"
   ]
  },
  {
   "cell_type": "code",
   "execution_count": null,
   "metadata": {},
   "outputs": [],
   "source": []
  },
  {
   "cell_type": "code",
   "execution_count": null,
   "metadata": {},
   "outputs": [],
   "source": []
  },
  {
   "cell_type": "code",
   "execution_count": null,
   "metadata": {},
   "outputs": [],
   "source": [
    "def add(a,b): # a and b are parameters\n",
    "    print(a+b)\n",
    "add(10,20)"
   ]
  },
  {
   "cell_type": "code",
   "execution_count": null,
   "metadata": {},
   "outputs": [],
   "source": [
    "add(67,98)"
   ]
  },
  {
   "cell_type": "code",
   "execution_count": null,
   "metadata": {},
   "outputs": [],
   "source": [
    "def bmi(w,h):\n",
    "    b = w / (h**2)\n",
    "    if b>16:\n",
    "        if b<18.5:\n",
    "            print('light thicker')\n",
    "        if b>18.5 and b<20:\n",
    "            print('thicker')\n",
    "        if b>20 and b<25:\n",
    "            print('heavy weight')\n",
    "        if b>25 and b<30:\n",
    "            print('obese range')\n",
    "        if b>30 and b<35:\n",
    "            print('obese range 2')\n",
    "        if b>35 and b<40:\n",
    "            print('obese range 3')\n",
    "        if b>40:\n",
    "            print('over weight')\n",
    "    else:\n",
    "        print('low weight')\n",
    "        \n",
    "bmi(75,160)"
   ]
  },
  {
   "cell_type": "code",
   "execution_count": null,
   "metadata": {},
   "outputs": [],
   "source": [
    "bmi(2,3)"
   ]
  },
  {
   "cell_type": "code",
   "execution_count": null,
   "metadata": {},
   "outputs": [],
   "source": [
    "bmi(4,5)"
   ]
  },
  {
   "cell_type": "code",
   "execution_count": null,
   "metadata": {},
   "outputs": [],
   "source": [
    "bmi(600000,80)"
   ]
  },
  {
   "cell_type": "code",
   "execution_count": null,
   "metadata": {},
   "outputs": [],
   "source": [
    "def BMI_CALC():\n",
    "    kg=float(input(\"Your Weight in KG:\"))\n",
    "    cm=float(input(\"Your Height in CMs:\"))\n",
    "    m=cm/10000\n",
    "    bmi=kg/cm/m\n",
    "    print(\"Your BMI is: \",round(bmi,2))\n",
    "    if bmi<18.5:\n",
    "        print(\"You are Underweight\")\n",
    "    elif bmi<=24.9 and bmi>=18.5:\n",
    "        print(\"You are Normalweight\")\n",
    "    elif bmi<=29.9 and bmi>=25:\n",
    "        print(\"You are Overweight\")\n",
    "    elif bmi>29.9:\n",
    "        print(\"You have Obesity\")"
   ]
  },
  {
   "cell_type": "code",
   "execution_count": null,
   "metadata": {},
   "outputs": [],
   "source": [
    "BMI_CALC()"
   ]
  },
  {
   "cell_type": "code",
   "execution_count": null,
   "metadata": {},
   "outputs": [],
   "source": [
    "def bmi_calculator():\n",
    "    W = float(input(\"Enter your weight:\"))\n",
    "    h = float(input(\"Enter your height:\"))\n",
    "\n",
    "    BMI = W/(h**2)\n",
    "\n",
    "    if BMI <= 18.5:\n",
    "        print(\"Underweight\")\n",
    "    if BMI >= 18.5 and BMI <= 24.9:\n",
    "        print(\"Normal weight\")\n",
    "    if BMI >= 25 and BMI <= 29.9:\n",
    "        print(\"Overweight\")\n",
    "    if BMI >= 30:\n",
    "        print(\"Obesity\")"
   ]
  },
  {
   "cell_type": "code",
   "execution_count": null,
   "metadata": {},
   "outputs": [],
   "source": [
    "bmi = bmi_calculator()\n",
    "print(bmi)"
   ]
  },
  {
   "cell_type": "code",
   "execution_count": null,
   "metadata": {},
   "outputs": [],
   "source": [
    "def BMI (weight,height):\n",
    "    \n",
    "    weight = float(input(\"enter your weight(in Kg) : \"))\n",
    "    height = float(input(\"enter your height(in meter) : \"))\n",
    "    BMI = weight/(height**2)\n",
    "    if BMI<=18.5:\n",
    "        print(\"You are underweight\")\n",
    "    elif BMI>18.5 and BMI <=24.9:\n",
    "        print(\"You are normal weight\")\n",
    "    elif BMI >24.9 and BMI < 29.9:\n",
    "        print(\"You are over weight\")\n",
    "    elif BMI >29.9:\n",
    "        print(\"You are obese\")\n",
    "BMI(weight,height)"
   ]
  },
  {
   "cell_type": "code",
   "execution_count": null,
   "metadata": {},
   "outputs": [],
   "source": [
    "def bmi_calculator(W,h):\n",
    "\n",
    "    BMI = W/(h**2)\n",
    "\n",
    "    if BMI <= 18.5:\n",
    "        print(\"Underweight\")\n",
    "    if BMI >= 18.5 and BMI <= 24.9:\n",
    "        print(\"Normal weight\")\n",
    "    if BMI >= 25 and BMI <= 29.9:\n",
    "        print(\"Overweight\")\n",
    "    if BMI >= 30:\n",
    "        print(\"Obesity\")\n",
    "        \n",
    "bmi = bmi_calculator(80,1.69)\n",
    "bmi"
   ]
  },
  {
   "cell_type": "code",
   "execution_count": null,
   "metadata": {},
   "outputs": [],
   "source": [
    "type('2')"
   ]
  },
  {
   "cell_type": "code",
   "execution_count": null,
   "metadata": {},
   "outputs": [],
   "source": [
    "def add(a, b):\n",
    "    if type(a) == type(b):\n",
    "        return a+b\n",
    "    else:\n",
    "        return \"Both are different data types. He don't\""
   ]
  },
  {
   "cell_type": "code",
   "execution_count": null,
   "metadata": {},
   "outputs": [],
   "source": [
    "add('1','3')"
   ]
  },
  {
   "cell_type": "code",
   "execution_count": null,
   "metadata": {},
   "outputs": [],
   "source": [
    "def hello():\n",
    "  print(\"Hello World, I am learning Data Science\") \n",
    "  return"
   ]
  },
  {
   "cell_type": "code",
   "execution_count": null,
   "metadata": {},
   "outputs": [],
   "source": [
    "hello()"
   ]
  },
  {
   "cell_type": "code",
   "execution_count": null,
   "metadata": {},
   "outputs": [],
   "source": [
    "def hello():\n",
    "  name = str(input(\"Enter your name: \"))\n",
    "  if name:\n",
    "    print (\"Hello \" + str(name))\n",
    "  else:\n",
    "    print(\"Name not entered, Greetings nonetheless !!\") \n",
    "  return"
   ]
  },
  {
   "cell_type": "code",
   "execution_count": null,
   "metadata": {},
   "outputs": [],
   "source": [
    "hello()"
   ]
  },
  {
   "cell_type": "code",
   "execution_count": null,
   "metadata": {},
   "outputs": [],
   "source": [
    "a = input(\"Enter your name: \")"
   ]
  },
  {
   "cell_type": "code",
   "execution_count": null,
   "metadata": {},
   "outputs": [],
   "source": [
    "type(a)"
   ]
  },
  {
   "cell_type": "code",
   "execution_count": null,
   "metadata": {},
   "outputs": [],
   "source": [
    "# The return Statement\n"
   ]
  },
  {
   "cell_type": "code",
   "execution_count": null,
   "metadata": {},
   "outputs": [],
   "source": [
    "# Define `plus()`\n",
    "def oper(a, b):\n",
    "  sum  = a + b\n",
    "  mult = a * b\n",
    "  return (sum, mult)\n"
   ]
  },
  {
   "cell_type": "code",
   "execution_count": null,
   "metadata": {},
   "outputs": [],
   "source": [
    "oper(3, 4)"
   ]
  },
  {
   "cell_type": "code",
   "execution_count": null,
   "metadata": {},
   "outputs": [],
   "source": [
    "a = 10\n",
    "b = 40\n",
    "output:\n",
    "    a : 40\n",
    "    b : 10\n",
    "a,b =b,a"
   ]
  },
  {
   "cell_type": "code",
   "execution_count": null,
   "metadata": {},
   "outputs": [],
   "source": [
    "a,b = 12, 14"
   ]
  },
  {
   "cell_type": "code",
   "execution_count": null,
   "metadata": {},
   "outputs": [],
   "source": [
    "# Call \n",
    "summ, mult = oper(3, 4)\n",
    "ret_tuple = oper(3, 4)"
   ]
  },
  {
   "cell_type": "code",
   "execution_count": null,
   "metadata": {},
   "outputs": [],
   "source": [
    "# Print sum, mult\n",
    "print(summ)\n",
    "print(mult)\n",
    "print(ret_tuple)"
   ]
  },
  {
   "cell_type": "code",
   "execution_count": null,
   "metadata": {},
   "outputs": [],
   "source": [
    "# Define `plus()` function\n",
    "def plus(a, b=4):\n",
    "  return a + b"
   ]
  },
  {
   "cell_type": "code",
   "execution_count": null,
   "metadata": {},
   "outputs": [],
   "source": [
    "# Call `plus()` with `a` and `b` parameters\n",
    "plus(10)"
   ]
  },
  {
   "cell_type": "code",
   "execution_count": null,
   "metadata": {},
   "outputs": [],
   "source": [
    "plus(10,30)"
   ]
  },
  {
   "cell_type": "code",
   "execution_count": null,
   "metadata": {},
   "outputs": [],
   "source": [
    "# Define `plus()` function\n",
    "def plus(a, b):\n",
    "  return a + b\n",
    "  \n",
    "# Call `plus()` function with parameters \n"
   ]
  },
  {
   "cell_type": "code",
   "execution_count": null,
   "metadata": {},
   "outputs": [],
   "source": [
    "plus(2)"
   ]
  },
  {
   "cell_type": "code",
   "execution_count": null,
   "metadata": {},
   "outputs": [],
   "source": [
    "# Define `plus()` function to accept a variable number of arguments\n",
    "def plus(*args):\n",
    "  total = 0\n",
    "  print(type(args))\n",
    "  for i in args:\n",
    "    total += i\n",
    "  return total\n"
   ]
  },
  {
   "cell_type": "code",
   "execution_count": null,
   "metadata": {},
   "outputs": [],
   "source": [
    "# Calculate the sum  \n",
    "plus(20,30,40,10,11,2,8,8,9,78,62,)"
   ]
  },
  {
   "cell_type": "code",
   "execution_count": null,
   "metadata": {},
   "outputs": [],
   "source": [
    "# Global vs Local Variables\n",
    "\n",
    "# In general, variables that are defined inside a function body have a \n",
    "# local scope, and those defined outside have a global scope. \n",
    "\n",
    "# That means that local variables are defined within a function block \n",
    "# and can only be accessed inside that function, while global variables \n",
    "# can be accessed by all functions that might be in your script"
   ]
  },
  {
   "cell_type": "code",
   "execution_count": null,
   "metadata": {},
   "outputs": [],
   "source": [
    "print(x)"
   ]
  },
  {
   "cell_type": "code",
   "execution_count": null,
   "metadata": {},
   "outputs": [],
   "source": [
    "print(y)"
   ]
  },
  {
   "cell_type": "code",
   "execution_count": null,
   "metadata": {},
   "outputs": [],
   "source": [
    "print(z)"
   ]
  },
  {
   "cell_type": "code",
   "execution_count": null,
   "metadata": {},
   "outputs": [],
   "source": [
    "x = 23\n",
    "def sumf():\n",
    "    print(x)\n",
    "    z = 25\n",
    "#     print(x)\n",
    "#     print(y)\n",
    "    print(z)\n",
    "    return\n",
    "    \n",
    "print(sumf())\n",
    "#print(z)"
   ]
  },
  {
   "cell_type": "code",
   "execution_count": null,
   "metadata": {
    "scrolled": true
   },
   "outputs": [],
   "source": [
    "x = 10\n",
    "y = 12 \n",
    "\n",
    "def sumf():\n",
    "    z = 25 \n",
    "    print(x)\n",
    "   # print(y)\n",
    "    print(z)\n",
    "    \n",
    "sumf() \n",
    "\n",
    "#print(z)\n",
    "\n"
   ]
  },
  {
   "cell_type": "markdown",
   "metadata": {},
   "source": [
    "- above we got a error that **name z is not defined** becasue it is local variable\n",
    "- we can convert local variable as global variable "
   ]
  },
  {
   "cell_type": "code",
   "execution_count": null,
   "metadata": {},
   "outputs": [],
   "source": [
    "x = 10 # Global Variables \n",
    "y = 12 # Gloabl variables\n",
    "\n",
    "def sumf():\n",
    "    global z\n",
    "    z = 25 # Local Variables\n",
    "    print(x)\n",
    "    print(y)\n",
    "    print(z)\n",
    "    \n",
    "sumf()\n",
    "print('------')\n",
    "print(x)\n",
    "print(y)\n",
    "print(z)"
   ]
  },
  {
   "cell_type": "code",
   "execution_count": null,
   "metadata": {},
   "outputs": [],
   "source": [
    "sumf()"
   ]
  },
  {
   "cell_type": "code",
   "execution_count": null,
   "metadata": {},
   "outputs": [],
   "source": [
    "def anonymous(x,y):\n",
    "    return x+y\n",
    "sum = anonymous(4,5)\n",
    "print(sum)"
   ]
  },
  {
   "cell_type": "code",
   "execution_count": null,
   "metadata": {},
   "outputs": [],
   "source": [
    "# \"Translate\" to a UDF\n",
    "def sum(x, y):\n",
    "    if x > 10:\n",
    "        return x+y\n",
    "    else:\n",
    "        return \"Sorry\"\n",
    "\n",
    "# `sum()` lambda function\n",
    "anusha = lambda x,y: x+y if x > 10 else \"Sorry\";"
   ]
  },
  {
   "cell_type": "code",
   "execution_count": null,
   "metadata": {},
   "outputs": [],
   "source": [
    "# Call the `sum()` anonymous function\n",
    "anusha(1,9)"
   ]
  },
  {
   "cell_type": "code",
   "execution_count": null,
   "metadata": {},
   "outputs": [],
   "source": [
    "sum(19,10)"
   ]
  },
  {
   "cell_type": "code",
   "execution_count": null,
   "metadata": {},
   "outputs": [],
   "source": [
    "def loan(amount):\n",
    "    if amount <= 20:\n",
    "        a = 10\n",
    "#         def output(new):\n",
    "#             return new * amount\n",
    "#         output(new)\n",
    "        output = lambda new : new * amount * a\n",
    "        return output\n",
    "    else:\n",
    "        print(\"Not Eligible\")\n",
    "\n",
    "myloan = loan(15)\n",
    "\n",
    "\n",
    "print(\"Print Output:\",myloan(3.43))\n",
    "print(myloan)\n",
    "\n",
    "# print(myloan(1.11))"
   ]
  },
  {
   "cell_type": "code",
   "execution_count": 1,
   "metadata": {},
   "outputs": [],
   "source": [
    "def loan(principal):\n",
    "    if principal <= 200000:\n",
    "        return lambda rate : principal*(1+rate)\n",
    "    else:\n",
    "        print(\"Not Eligible\")\n",
    "        return \"Not Eligible\"\n",
    "    "
   ]
  },
  {
   "cell_type": "code",
   "execution_count": 3,
   "metadata": {},
   "outputs": [],
   "source": [
    "abhiloan = loan(15000)"
   ]
  },
  {
   "cell_type": "code",
   "execution_count": 11,
   "metadata": {},
   "outputs": [
    {
     "name": "stdout",
     "output_type": "stream",
     "text": [
      "<function loan.<locals>.<lambda> at 0x0000022C0AD93F60>\n"
     ]
    }
   ],
   "source": [
    "print(abhiloan)"
   ]
  },
  {
   "cell_type": "code",
   "execution_count": 5,
   "metadata": {},
   "outputs": [
    {
     "name": "stdout",
     "output_type": "stream",
     "text": [
      "16350.000000000002\n"
     ]
    }
   ],
   "source": [
    "try: \n",
    "    print(abhiloan(0.09))\n",
    "except Exception as ex:\n",
    "    print(abhiloan)"
   ]
  },
  {
   "cell_type": "code",
   "execution_count": 7,
   "metadata": {},
   "outputs": [
    {
     "data": {
      "text/plain": [
       "16200.000000000002"
      ]
     },
     "execution_count": 7,
     "metadata": {},
     "output_type": "execute_result"
    }
   ],
   "source": [
    "abhiloan(0.08)"
   ]
  },
  {
   "cell_type": "markdown",
   "metadata": {},
   "source": [
    "# Python Module"
   ]
  },
  {
   "cell_type": "code",
   "execution_count": null,
   "metadata": {},
   "outputs": [],
   "source": [
    "import os"
   ]
  },
  {
   "cell_type": "code",
   "execution_count": null,
   "metadata": {},
   "outputs": [],
   "source": [
    "pwd"
   ]
  },
  {
   "cell_type": "code",
   "execution_count": null,
   "metadata": {},
   "outputs": [],
   "source": [
    "cd Downloads"
   ]
  },
  {
   "cell_type": "code",
   "execution_count": 13,
   "metadata": {},
   "outputs": [],
   "source": [
    "import testmodule as tm"
   ]
  },
  {
   "cell_type": "code",
   "execution_count": 15,
   "metadata": {},
   "outputs": [
    {
     "name": "stdout",
     "output_type": "stream",
     "text": [
      "Hello from:  Shubham\n"
     ]
    }
   ],
   "source": [
    "tm.greeting('Shubham')"
   ]
  },
  {
   "cell_type": "code",
   "execution_count": null,
   "metadata": {},
   "outputs": [],
   "source": [
    "help(tm.greeting)"
   ]
  },
  {
   "cell_type": "code",
   "execution_count": null,
   "metadata": {},
   "outputs": [],
   "source": [
    "numbers = {1,20,2}\n",
    "for x in range(0,20,2):\n",
    "    print(x)\n",
    "\n"
   ]
  },
  {
   "cell_type": "code",
   "execution_count": null,
   "metadata": {},
   "outputs": [],
   "source": [
    "#Assignment:\n",
    "#You have to create a function:\n",
    "#    That return\n",
    "#    Addition, Substraction, Multiplication and Division only by using \"+\" or \"-\""
   ]
  }
 ],
 "metadata": {
  "kernelspec": {
   "display_name": "Python 3 (ipykernel)",
   "language": "python",
   "name": "python3"
  },
  "language_info": {
   "codemirror_mode": {
    "name": "ipython",
    "version": 3
   },
   "file_extension": ".py",
   "mimetype": "text/x-python",
   "name": "python",
   "nbconvert_exporter": "python",
   "pygments_lexer": "ipython3",
   "version": "3.12.4"
  },
  "toc": {
   "base_numbering": 1,
   "nav_menu": {},
   "number_sections": true,
   "sideBar": true,
   "skip_h1_title": false,
   "title_cell": "Table of Contents",
   "title_sidebar": "Contents",
   "toc_cell": false,
   "toc_position": {},
   "toc_section_display": true,
   "toc_window_display": false
  }
 },
 "nbformat": 4,
 "nbformat_minor": 4
}
