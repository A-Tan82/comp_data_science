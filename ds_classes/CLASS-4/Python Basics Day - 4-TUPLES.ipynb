{
 "cells": [
  {
   "cell_type": "code",
   "execution_count": 9,
   "metadata": {},
   "outputs": [],
   "source": [
    "tup1 = (1,2,3)"
   ]
  },
  {
   "cell_type": "code",
   "execution_count": 11,
   "metadata": {},
   "outputs": [
    {
     "data": {
      "text/plain": [
       "2393997026816"
      ]
     },
     "execution_count": 11,
     "metadata": {},
     "output_type": "execute_result"
    }
   ],
   "source": [
    "id(tup1)"
   ]
  },
  {
   "cell_type": "code",
   "execution_count": 13,
   "metadata": {},
   "outputs": [
    {
     "data": {
      "text/plain": [
       "[1, 2, 3, 4]"
      ]
     },
     "execution_count": 13,
     "metadata": {},
     "output_type": "execute_result"
    }
   ],
   "source": [
    "tup1 = tup1 + (4,)\n",
    "tup1"
   ]
  },
  {
   "cell_type": "code",
   "execution_count": 15,
   "metadata": {},
   "outputs": [
    {
     "data": {
      "text/plain": [
       "2394020307008"
      ]
     },
     "execution_count": 15,
     "metadata": {},
     "output_type": "execute_result"
    }
   ],
   "source": [
    "id(tup1)"
   ]
  },
  {
   "cell_type": "code",
   "execution_count": 17,
   "metadata": {},
   "outputs": [],
   "source": [
    "# empty tuple\n",
    "tup1 = ()\n",
    "tup1\n",
    "# a tuple with single data item\n",
    "tup2 = (99,)\n",
    "\n",
    "# tuple of strings\n",
    "tup3 = (\"hi\", \"hello\", \"bye\")\n",
    "\n",
    "# tuple of int, float, string\n",
    "tup4 = (1, 2.8, \"Hello World\")\n",
    "\n",
    "# tuple of string and list\n",
    "tup5 = (\"Book\", [1, 2, 3])\n",
    "\n",
    "# tuples inside another tuple\n",
    "# nested tuple\n",
    "tup6 = ((2, 3, 4), (1, 2, \"hi\"))"
   ]
  },
  {
   "cell_type": "code",
   "execution_count": 19,
   "metadata": {},
   "outputs": [
    {
     "data": {
      "text/plain": [
       "tuple"
      ]
     },
     "execution_count": 19,
     "metadata": {},
     "output_type": "execute_result"
    }
   ],
   "source": [
    "tup2 = (99,)\n",
    "type(tup2)"
   ]
  },
  {
   "cell_type": "code",
   "execution_count": 21,
   "metadata": {},
   "outputs": [
    {
     "data": {
      "text/plain": [
       "((2, 3, 4), (1, 2, 'hi'))"
      ]
     },
     "execution_count": 21,
     "metadata": {},
     "output_type": "execute_result"
    }
   ],
   "source": [
    "tup6"
   ]
  },
  {
   "cell_type": "code",
   "execution_count": 23,
   "metadata": {},
   "outputs": [
    {
     "data": {
      "text/plain": [
       "4"
      ]
     },
     "execution_count": 23,
     "metadata": {},
     "output_type": "execute_result"
    }
   ],
   "source": [
    "tup6[0][2]"
   ]
  },
  {
   "cell_type": "code",
   "execution_count": 25,
   "metadata": {},
   "outputs": [
    {
     "ename": "TypeError",
     "evalue": "'tuple' object does not support item assignment",
     "output_type": "error",
     "traceback": [
      "\u001b[1;31m---------------------------------------------------------------------------\u001b[0m",
      "\u001b[1;31mTypeError\u001b[0m                                 Traceback (most recent call last)",
      "Cell \u001b[1;32mIn[25], line 2\u001b[0m\n\u001b[0;32m      1\u001b[0m tup6 \u001b[38;5;241m=\u001b[39m ((\u001b[38;5;241m2\u001b[39m, \u001b[38;5;241m3\u001b[39m, \u001b[38;5;241m4\u001b[39m), (\u001b[38;5;241m1\u001b[39m, \u001b[38;5;241m2\u001b[39m, \u001b[38;5;124m\"\u001b[39m\u001b[38;5;124mhi\u001b[39m\u001b[38;5;124m\"\u001b[39m))\n\u001b[1;32m----> 2\u001b[0m tup6[\u001b[38;5;241m1\u001b[39m][\u001b[38;5;241m0\u001b[39m] \u001b[38;5;241m=\u001b[39m \u001b[38;5;241m10\u001b[39m\n\u001b[0;32m      3\u001b[0m tup6\n",
      "\u001b[1;31mTypeError\u001b[0m: 'tuple' object does not support item assignment"
     ]
    }
   ],
   "source": [
    "tup6 = ((2, 3, 4), (1, 2, \"hi\"))\n",
    "tup6[1][0] = 10\n",
    "tup6"
   ]
  },
  {
   "cell_type": "code",
   "execution_count": 27,
   "metadata": {
    "scrolled": true
   },
   "outputs": [
    {
     "name": "stdout",
     "output_type": "stream",
     "text": [
      "A blank tuple: ()\n",
      "A tuple set without parenthesis: (33, 55, 77.0) type: <class 'tuple'>\n",
      "A tuple of numbers: (33, 55, 77)\n",
      "A tuple of mixed numbers: (33, 3.3, (3+3j))\n",
      "A tuple of mixed data types: (33, '33', [3, 3])\n",
      "A tuple of tuples: (('x', 'y', 'z'), ('X', 'Y', 'Z'))\n"
     ]
    }
   ],
   "source": [
    "# create an empty tuple\n",
    "py_tuple = ()\n",
    "print(\"A blank tuple:\", py_tuple)\n",
    "\n",
    "# create a tuple without using round brackets\n",
    "py_tuple = 33, 55, 77.\n",
    "print(\"A tuple set without parenthesis:\", py_tuple, \"type:\", type(py_tuple))\n",
    "\n",
    "# create a tuple of numbers\n",
    "py_tuple = (33, 55, 77)\n",
    "print(\"A tuple of numbers:\", py_tuple)\n",
    "\n",
    "# create a tuple of mixed numbers\n",
    "# such as integer, float, imaginary\n",
    "py_tuple = (33, 3.3, 3+3j)\n",
    "print(\"A tuple of mixed numbers:\", py_tuple)\n",
    "\n",
    "# create a tuple of mixed data types\n",
    "# such as numbers, strings, lists\n",
    "py_tuple = (33, \"33\", [3, 3])\n",
    "print(\"A tuple of mixed data types:\", py_tuple)\n",
    "\n",
    "# create a tuple of tuples\n",
    "# i.e. a nested tuple\n",
    "py_tuple = (('x', 'y', 'z'), ('X', 'Y', 'Z'))\n",
    "print(\"A tuple of tuples:\", py_tuple)"
   ]
  },
  {
   "cell_type": "markdown",
   "metadata": {},
   "source": [
    "v1 = \"first string\"\n",
    "v2 = \"second string\""
   ]
  },
  {
   "cell_type": "code",
   "execution_count": 29,
   "metadata": {},
   "outputs": [
    {
     "name": "stdout",
     "output_type": "stream",
     "text": [
      "<class 'tuple'>\n"
     ]
    },
    {
     "data": {
      "text/plain": [
       "(33, 77, 55)"
      ]
     },
     "execution_count": 29,
     "metadata": {},
     "output_type": "execute_result"
    }
   ],
   "source": [
    "# creating a tuple from a set\n",
    "py_tuple = tuple({33, 55 , 77})\n",
    "print(type(py_tuple))\n",
    "\n",
    "py_tuple"
   ]
  },
  {
   "cell_type": "code",
   "execution_count": 31,
   "metadata": {},
   "outputs": [
    {
     "name": "stdout",
     "output_type": "stream",
     "text": [
      "<class 'tuple'>\n"
     ]
    },
    {
     "data": {
      "text/plain": [
       "(33, 55, 77)"
      ]
     },
     "execution_count": 31,
     "metadata": {},
     "output_type": "execute_result"
    }
   ],
   "source": [
    "# creating a tuple from a list\n",
    "py_tuple = tuple([33, 55 , 77])\n",
    "print(type(py_tuple))\n",
    "\n",
    "py_tuple"
   ]
  },
  {
   "cell_type": "code",
   "execution_count": 33,
   "metadata": {},
   "outputs": [
    {
     "data": {
      "text/plain": [
       "str"
      ]
     },
     "execution_count": 33,
     "metadata": {},
     "output_type": "execute_result"
    }
   ],
   "source": [
    "# A single element surrounded by parenthesis will create a string instead of a tuple\n",
    "py_tuple = ('single')\n",
    "type(py_tuple)"
   ]
  },
  {
   "cell_type": "code",
   "execution_count": 35,
   "metadata": {},
   "outputs": [
    {
     "data": {
      "text/plain": [
       "tuple"
      ]
     },
     "execution_count": 35,
     "metadata": {},
     "output_type": "execute_result"
    }
   ],
   "source": [
    "# You need to place a comma after the first element to create a tuple of size \"one\"\n",
    "py_tuple = ('single',)\n",
    "type(py_tuple)"
   ]
  },
  {
   "cell_type": "code",
   "execution_count": 37,
   "metadata": {},
   "outputs": [
    {
     "data": {
      "text/plain": [
       "tuple"
      ]
     },
     "execution_count": 37,
     "metadata": {},
     "output_type": "execute_result"
    }
   ],
   "source": [
    "# You can use a list of one element and convert it to a tuple\n",
    "py_tuple = tuple(['single'])\n",
    "type(py_tuple)"
   ]
  },
  {
   "cell_type": "code",
   "execution_count": 39,
   "metadata": {},
   "outputs": [
    {
     "data": {
      "text/plain": [
       "tuple"
      ]
     },
     "execution_count": 39,
     "metadata": {},
     "output_type": "execute_result"
    }
   ],
   "source": [
    "# You can use a set of one element and convert it to a tuple\n",
    "py_tuple = tuple({'single'})\n",
    "type(py_tuple)"
   ]
  },
  {
   "cell_type": "code",
   "execution_count": null,
   "metadata": {},
   "outputs": [],
   "source": [
    "# accessing first element\n",
    "\n",
    "# Via Indexing\n",
    "# The simplest is the direct access method where you use the index operator\n",
    "# [] to pick an item from the tuple. \n",
    "# You can start indexing from the 0th position."
   ]
  },
  {
   "cell_type": "code",
   "execution_count": 41,
   "metadata": {},
   "outputs": [
    {
     "data": {
      "text/plain": [
       "('Book', [1, 2, 3])"
      ]
     },
     "execution_count": 41,
     "metadata": {},
     "output_type": "execute_result"
    }
   ],
   "source": [
    "tup5"
   ]
  },
  {
   "cell_type": "code",
   "execution_count": 43,
   "metadata": {},
   "outputs": [
    {
     "data": {
      "text/plain": [
       "((2, 3, 4), (1, 2, 'hi'))"
      ]
     },
     "execution_count": 43,
     "metadata": {},
     "output_type": "execute_result"
    }
   ],
   "source": [
    "tup6"
   ]
  },
  {
   "cell_type": "code",
   "execution_count": 45,
   "metadata": {},
   "outputs": [
    {
     "name": "stdout",
     "output_type": "stream",
     "text": [
      "Book\n",
      "(1, 2, 'hi')\n"
     ]
    }
   ],
   "source": [
    "print(tup5[0])\n",
    "\n",
    "# accessing third element\n",
    "# prints \"bye\"\n",
    "print(tup6[1])"
   ]
  },
  {
   "cell_type": "code",
   "execution_count": null,
   "metadata": {},
   "outputs": [],
   "source": [
    "-inf....-3,-2,-1,0,1,2,3...+inf"
   ]
  },
  {
   "cell_type": "code",
   "execution_count": null,
   "metadata": {},
   "outputs": [],
   "source": [
    "[start:end:step]\n",
    "start -> inclusive\n",
    "end -> exclusive\n",
    "step -> skips needed"
   ]
  },
  {
   "cell_type": "code",
   "execution_count": 47,
   "metadata": {},
   "outputs": [
    {
     "name": "stdout",
     "output_type": "stream",
     "text": [
      "n\n",
      "a\n",
      "('mon', 'tue', 'wed')\n",
      "('thur', 'fri', 'sat')\n",
      "r\n"
     ]
    }
   ],
   "source": [
    "week = ('mon','tue','wed','thur','fri','sat','sun')\n",
    "print(week[0][2])\n",
    "print(week[5][1])\n",
    "print(week[:3])\n",
    "print(week[-4:-1])\n",
    "print(week[-4][-1])"
   ]
  },
  {
   "cell_type": "code",
   "execution_count": 49,
   "metadata": {},
   "outputs": [
    {
     "name": "stdout",
     "output_type": "stream",
     "text": [
      "The tuple: ('a', 'e', 'i', 'o', 'u') Length: 5\n",
      "OP(vowel_tuple[0]): a\n",
      "OP(vowel_tuple[length-1]): u\n"
     ]
    }
   ],
   "source": [
    "vowel_tuple = ('a','e','i','o','u')\n",
    "\n",
    "print(\"The tuple:\", vowel_tuple, \"Length:\", len(vowel_tuple))\n",
    "\n",
    "# Indexing the first element\n",
    "print(\"OP(vowel_tuple[0]):\", vowel_tuple[0])\n",
    "\n",
    "# Indexing the last element\n",
    "print(\"OP(vowel_tuple[length-1]):\", vowel_tuple[len(vowel_tuple) - 1])"
   ]
  },
  {
   "cell_type": "code",
   "execution_count": 51,
   "metadata": {},
   "outputs": [
    {
     "ename": "IndexError",
     "evalue": "tuple index out of range",
     "output_type": "error",
     "traceback": [
      "\u001b[1;31m---------------------------------------------------------------------------\u001b[0m",
      "\u001b[1;31mIndexError\u001b[0m                                Traceback (most recent call last)",
      "Cell \u001b[1;32mIn[51], line 1\u001b[0m\n\u001b[1;32m----> 1\u001b[0m \u001b[38;5;28mprint\u001b[39m(vowel_tuple[\u001b[38;5;28mlen\u001b[39m(vowel_tuple)])\n\u001b[0;32m      2\u001b[0m \u001b[38;5;28mprint\u001b[39m(\u001b[38;5;124m\"\u001b[39m\u001b[38;5;124m-------\u001b[39m\u001b[38;5;124m\"\u001b[39m)\n",
      "\u001b[1;31mIndexError\u001b[0m: tuple index out of range"
     ]
    }
   ],
   "source": [
    "print(vowel_tuple[len(vowel_tuple)])\n",
    "print(\"-------\")"
   ]
  },
  {
   "cell_type": "code",
   "execution_count": 53,
   "metadata": {},
   "outputs": [
    {
     "name": "stdout",
     "output_type": "stream",
     "text": [
      "OP(vowel_tuple[length]) Error: tuple index out of range\n",
      "-------\n"
     ]
    }
   ],
   "source": [
    "# Indexing a non-existent member\n",
    "# will raise the IndexError\n",
    "try:\n",
    "    print(vowel_tuple[len(vowel_tuple)])\n",
    "except Exception as ex:\n",
    "    print(\"OP(vowel_tuple[length]) Error:\", ex)\n",
    "print(\"-------\")"
   ]
  },
  {
   "cell_type": "code",
   "execution_count": 55,
   "metadata": {},
   "outputs": [
    {
     "name": "stdout",
     "output_type": "stream",
     "text": [
      "OP(vowel_tuple[0.0]) Error: tuple indices must be integers or slices, not float\n",
      "--------\n"
     ]
    }
   ],
   "source": [
    "# Indexing with a non-integer index\n",
    "# will raise the TypeError\n",
    "try:\n",
    "    print(vowel_tuple[1.2])\n",
    "except Exception as ex:\n",
    "    print(\"OP(vowel_tuple[0.0]) Error:\", ex)\n",
    "print(\"--------\")"
   ]
  },
  {
   "cell_type": "code",
   "execution_count": 57,
   "metadata": {},
   "outputs": [
    {
     "name": "stdout",
     "output_type": "stream",
     "text": [
      "OP(t_o_t[0][2]): mar\n",
      "OP(t_o_t[1][2]): wed\n"
     ]
    }
   ],
   "source": [
    "# Indexing in a tuple of tuples\n",
    "t_o_t = (('jan', 'feb', 'mar'), ('sun', 'mon', 'wed'))\n",
    "\n",
    "# Accessing elements from the first sub tuple\n",
    "print(\"OP(t_o_t[0][2]):\", t_o_t[0][2])\n",
    "\n",
    "# Accessing elements from the second sub tuple\n",
    "print(\"OP(t_o_t[1][2]):\", t_o_t[1][2])"
   ]
  },
  {
   "cell_type": "code",
   "execution_count": null,
   "metadata": {},
   "outputs": [],
   "source": [
    "# Via Reverse Indexing\n",
    "\n",
    "# The reverse indexing works in the following manner.\n",
    "    # The index -1 represents the last item.\n",
    "    # An index with value -2 will refer to the second item from the rear end."
   ]
  },
  {
   "cell_type": "code",
   "execution_count": 59,
   "metadata": {},
   "outputs": [
    {
     "name": "stdout",
     "output_type": "stream",
     "text": [
      "u\n",
      "o\n",
      "a\n"
     ]
    }
   ],
   "source": [
    "vowels = ('a','e','i','o','u')\n",
    "vowels\n",
    "\n",
    "print(vowels[-1])\n",
    "print(vowels[-2])\n",
    "print(vowels[-5])"
   ]
  },
  {
   "cell_type": "code",
   "execution_count": null,
   "metadata": {},
   "outputs": [],
   "source": [
    "# Via Slicing Operator"
   ]
  },
  {
   "cell_type": "code",
   "execution_count": null,
   "metadata": {},
   "outputs": [],
   "source": [
    "# If you need to access not one but more than one element from a tuple, \n",
    "# then Python’s slicing operator can come to use.\n",
    "\n",
    "# The single colon, i.e., a “:” represents the slicing operator in Python."
   ]
  },
  {
   "cell_type": "code",
   "execution_count": 61,
   "metadata": {},
   "outputs": [
    {
     "data": {
      "text/plain": [
       "('mon', 'tue', 'wed', 'thu', 'fri', 'sat', 'sun')"
      ]
     },
     "execution_count": 61,
     "metadata": {},
     "output_type": "execute_result"
    }
   ],
   "source": [
    "weekdays = ('mon', 'tue', 'wed' ,'thu', 'fri', 'sat', 'sun')\n",
    "weekdays"
   ]
  },
  {
   "cell_type": "code",
   "execution_count": 63,
   "metadata": {},
   "outputs": [
    {
     "data": {
      "text/plain": [
       "('tue', 'wed', 'thu', 'fri', 'sat', 'sun')"
      ]
     },
     "execution_count": 63,
     "metadata": {},
     "output_type": "execute_result"
    }
   ],
   "source": [
    "# accessing elements leaving the first one\n",
    "weekdays[1:]"
   ]
  },
  {
   "cell_type": "code",
   "execution_count": 65,
   "metadata": {},
   "outputs": [
    {
     "data": {
      "text/plain": [
       "('tue', 'wed', 'thu', 'fri')"
      ]
     },
     "execution_count": 65,
     "metadata": {},
     "output_type": "execute_result"
    }
   ],
   "source": [
    "# accessing elements between the first and fifth positions\n",
    "# excluding the ones at the first and fifth position\n",
    "weekdays[1:5]"
   ]
  },
  {
   "cell_type": "code",
   "execution_count": 67,
   "metadata": {},
   "outputs": [
    {
     "data": {
      "text/plain": [
       "('sat', 'sun')"
      ]
     },
     "execution_count": 67,
     "metadata": {},
     "output_type": "execute_result"
    }
   ],
   "source": [
    "# accessing elements after the fifth position\n",
    "weekdays[5:]"
   ]
  },
  {
   "cell_type": "code",
   "execution_count": 69,
   "metadata": {},
   "outputs": [
    {
     "data": {
      "text/plain": [
       "('mon', 'tue', 'wed', 'thu', 'fri', 'sat', 'sun')"
      ]
     },
     "execution_count": 69,
     "metadata": {},
     "output_type": "execute_result"
    }
   ],
   "source": [
    "weekdays"
   ]
  },
  {
   "cell_type": "code",
   "execution_count": 71,
   "metadata": {},
   "outputs": [
    {
     "data": {
      "text/plain": [
       "('mon', 'tue')"
      ]
     },
     "execution_count": 71,
     "metadata": {},
     "output_type": "execute_result"
    }
   ],
   "source": [
    "# accessing elements that appears after\n",
    "# counting five from the rear end\n",
    "weekdays[:-5]"
   ]
  },
  {
   "cell_type": "code",
   "execution_count": 73,
   "metadata": {},
   "outputs": [
    {
     "data": {
      "text/plain": [
       "('wed', 'thu', 'fri', 'sat', 'sun')"
      ]
     },
     "execution_count": 73,
     "metadata": {},
     "output_type": "execute_result"
    }
   ],
   "source": [
    "# accessing five elements from the rear\n",
    "weekdays[-5:]"
   ]
  },
  {
   "cell_type": "code",
   "execution_count": 75,
   "metadata": {},
   "outputs": [
    {
     "data": {
      "text/plain": [
       "('mon', 'tue', 'wed', 'thu', 'fri', 'sat', 'sun')"
      ]
     },
     "execution_count": 75,
     "metadata": {},
     "output_type": "execute_result"
    }
   ],
   "source": [
    "# accessing elements from the start to end\n",
    "weekdays[:]"
   ]
  },
  {
   "cell_type": "code",
   "execution_count": null,
   "metadata": {},
   "outputs": [],
   "source": []
  },
  {
   "cell_type": "code",
   "execution_count": 77,
   "metadata": {},
   "outputs": [
    {
     "name": "stdout",
     "output_type": "stream",
     "text": [
      "8.9\n",
      "2\n"
     ]
    }
   ],
   "source": [
    "# Similar to list and strings we can use negative indexes to access the tuple \n",
    "# elements from the end.\n",
    "# -1 to access last element, -2 to access second last and so on.\n",
    "my_data = (1, 2, \"Kevin\", 8.9)\n",
    "\n",
    "# accessing last element\n",
    "# prints 8.9\n",
    "print(my_data[-1])\n",
    "\n",
    "# prints 2\n",
    "print(my_data[-3])"
   ]
  },
  {
   "cell_type": "code",
   "execution_count": 79,
   "metadata": {},
   "outputs": [
    {
     "name": "stdout",
     "output_type": "stream",
     "text": [
      "v\n",
      "22\n"
     ]
    }
   ],
   "source": [
    "# Accessing elements from nested tuples\n",
    "my_data = (1, \"Steve\", (11, 22, 33))\n",
    "\n",
    "# prints 'v'\n",
    "print(my_data[1][3])\n",
    "\n",
    "# prints 22\n",
    "print(my_data[2][1])"
   ]
  },
  {
   "cell_type": "code",
   "execution_count": 81,
   "metadata": {},
   "outputs": [
    {
     "name": "stdout",
     "output_type": "stream",
     "text": [
      "(1, [9, 8, 7], 'World')\n"
     ]
    },
    {
     "ename": "TypeError",
     "evalue": "'tuple' object does not support item assignment",
     "output_type": "error",
     "traceback": [
      "\u001b[1;31m---------------------------------------------------------------------------\u001b[0m",
      "\u001b[1;31mTypeError\u001b[0m                                 Traceback (most recent call last)",
      "Cell \u001b[1;32mIn[81], line 8\u001b[0m\n\u001b[0;32m      3\u001b[0m \u001b[38;5;28mprint\u001b[39m(my_data)\n\u001b[0;32m      5\u001b[0m \u001b[38;5;66;03m# changing the element of tuple\u001b[39;00m\n\u001b[0;32m      6\u001b[0m \u001b[38;5;66;03m# This is not valid since tuple elements are immutable\u001b[39;00m\n\u001b[0;32m      7\u001b[0m \u001b[38;5;66;03m# TypeError: 'tuple' object does not support item assignment\u001b[39;00m\n\u001b[1;32m----> 8\u001b[0m my_data[\u001b[38;5;241m0\u001b[39m] \u001b[38;5;241m=\u001b[39m \u001b[38;5;241m101\u001b[39m\n",
      "\u001b[1;31mTypeError\u001b[0m: 'tuple' object does not support item assignment"
     ]
    }
   ],
   "source": [
    "# changing the tuple element\n",
    "my_data = (1, [9, 8, 7], \"World\")\n",
    "print(my_data)\n",
    "\n",
    "# changing the element of tuple\n",
    "# This is not valid since tuple elements are immutable\n",
    "# TypeError: 'tuple' object does not support item assignment\n",
    "my_data[0] = 101\n"
   ]
  },
  {
   "cell_type": "code",
   "execution_count": 83,
   "metadata": {},
   "outputs": [
    {
     "name": "stdout",
     "output_type": "stream",
     "text": [
      "(1, [9, 8, 7], 'World')\n",
      "2394050975424\n",
      "(1, [9, 8, 99], 'World')\n",
      "2394050975424\n"
     ]
    }
   ],
   "source": [
    "# changing the tuple element, which are mutable\n",
    "my_data = (1, [9, 8, 7], \"World\")\n",
    "print(my_data)\n",
    "print(id(my_data))\n",
    "\n",
    "# changing the element of the list\n",
    "# this is valid because list is mutable\n",
    "my_data[1][2] = 99\n",
    "print(my_data)\n",
    "print(id(my_data))"
   ]
  },
  {
   "cell_type": "code",
   "execution_count": 85,
   "metadata": {},
   "outputs": [
    {
     "name": "stdout",
     "output_type": "stream",
     "text": [
      "(1, 2, 3, 4, 5, 6)\n"
     ]
    }
   ],
   "source": [
    "# deleting tuple elements\n",
    "my_data = (1, 2, 3, 4, 5, 6)\n",
    "print(my_data)\n",
    "\n",
    "# not possible\n",
    "# error\n",
    "# del my_data[2]\n",
    "\n",
    "# deleting entire tuple is possible\n",
    "del my_data\n"
   ]
  },
  {
   "cell_type": "code",
   "execution_count": 87,
   "metadata": {},
   "outputs": [
    {
     "name": "stdout",
     "output_type": "stream",
     "text": [
      "(11, 22, 33, 44, 55, 66, 77, 88, 99)\n",
      "(33, 44, 55)\n",
      "(11, 22, 33, 44)\n",
      "(55, 66, 77, 88, 99)\n",
      "(55, 66, 77, 88)\n",
      "(11, 22, 33, 44, 55, 66, 77, 88, 99)\n"
     ]
    }
   ],
   "source": [
    "# Slicing operation in tuples\n",
    "my_data = (11, 22, 33, 44, 55, 66, 77, 88, 99)\n",
    "print(my_data)\n",
    "\n",
    "# elements from 3rd to 5th\n",
    "# prints (33, 44, 55)\n",
    "print(my_data[2:5])\n",
    "\n",
    "# elements from start to 4th\n",
    "# prints (11, 22, 33, 44)\n",
    "print(my_data[:4])\n",
    "\n",
    "# elements from 5th to end\n",
    "# prints (55, 66, 77, 88, 99)\n",
    "print(my_data[4:])\n",
    "\n",
    "# elements from 5th to second last\n",
    "# prints (55, 66, 77, 88)\n",
    "print(my_data[4:-1])\n",
    "\n",
    "# displaying entire tuple\n",
    "print(my_data[:])"
   ]
  },
  {
   "cell_type": "code",
   "execution_count": 89,
   "metadata": {},
   "outputs": [
    {
     "name": "stdout",
     "output_type": "stream",
     "text": [
      "(11, 22, 33, 44, 55, 66, 77, 88, 99)\n",
      "True\n",
      "False\n",
      "False\n",
      "True\n"
     ]
    }
   ],
   "source": [
    "# Membership Test in Tuples\n",
    "# in: Checks whether an element exists in the specified tuple.\n",
    "# not in: Checks whether an element does not exist in the specified tuple.\n",
    "my_data = (11, 22, 33, 44, 55, 66, 77, 88, 99)\n",
    "print(my_data)\n",
    "\n",
    "# true\n",
    "print(22 in my_data)\n",
    "\n",
    "# false\n",
    "print(2 in my_data)\n",
    "\n",
    "# false\n",
    "print(88 not in my_data)\n",
    "\n",
    "# true\n",
    "print(101 not in my_data)"
   ]
  },
  {
   "cell_type": "code",
   "execution_count": 91,
   "metadata": {},
   "outputs": [
    {
     "name": "stdout",
     "output_type": "stream",
     "text": [
      "Apple-Orange-Grapes-Banana-"
     ]
    }
   ],
   "source": [
    "# Iterating a tuple\n",
    "# tuple of fruits\n",
    "my_tuple = (\"Apple\", \"Orange\", \"Grapes\", \"Banana\")\n",
    "\n",
    "# iterating over tuple elements\n",
    "for fruit in my_tuple:\n",
    "     print(fruit, end=\"-\")"
   ]
  },
  {
   "cell_type": "code",
   "execution_count": null,
   "metadata": {},
   "outputs": [],
   "source": [
    "# tuple methods\n",
    "my_tuple = ('a','p','p','l','e',)\n",
    "\n",
    "# Count\n",
    "print(my_tuple.count('p'))\n",
    "\n",
    "# Index\n",
    "print(my_tuple.index('l'))"
   ]
  },
  {
   "cell_type": "code",
   "execution_count": null,
   "metadata": {},
   "outputs": [],
   "source": [
    "# How Can You Delete A Tuple"
   ]
  },
  {
   "cell_type": "code",
   "execution_count": null,
   "metadata": {},
   "outputs": [],
   "source": [
    "del py_tuple[0]"
   ]
  },
  {
   "cell_type": "code",
   "execution_count": 93,
   "metadata": {},
   "outputs": [
    {
     "name": "stdout",
     "output_type": "stream",
     "text": [
      "OP(del py_tuple[0]) Error: 'tuple' object doesn't support item deletion\n"
     ]
    }
   ],
   "source": [
    "py_tuple = ('p', 'y', 't', 'h', 'o', 'n')\n",
    "\n",
    "# you can't delete a particular item from a tuple\n",
    "try:\n",
    "    del py_tuple[0]\n",
    "except Exception as ex:\n",
    "    print(\"OP(del py_tuple[0]) Error:\", ex)"
   ]
  },
  {
   "cell_type": "code",
   "execution_count": 95,
   "metadata": {},
   "outputs": [
    {
     "ename": "NameError",
     "evalue": "name 'py_tuple' is not defined",
     "output_type": "error",
     "traceback": [
      "\u001b[1;31m---------------------------------------------------------------------------\u001b[0m",
      "\u001b[1;31mNameError\u001b[0m                                 Traceback (most recent call last)",
      "Cell \u001b[1;32mIn[95], line 2\u001b[0m\n\u001b[0;32m      1\u001b[0m \u001b[38;5;28;01mdel\u001b[39;00m py_tuple\n\u001b[1;32m----> 2\u001b[0m \u001b[38;5;28mprint\u001b[39m(py_tuple)\n",
      "\u001b[1;31mNameError\u001b[0m: name 'py_tuple' is not defined"
     ]
    }
   ],
   "source": [
    "del py_tuple\n",
    "print(py_tuple)"
   ]
  },
  {
   "cell_type": "code",
   "execution_count": 97,
   "metadata": {},
   "outputs": [
    {
     "name": "stdout",
     "output_type": "stream",
     "text": [
      "print(py_tuple) => Error: name 'py_tuple' is not defined\n",
      "----------\n"
     ]
    }
   ],
   "source": [
    "# but you can delete a whole tuple\n",
    "py_tuple = ('p', 'y', 't', 'h', 'o', 'n')\n",
    "del py_tuple\n",
    "try:\n",
    "    print(py_tuple)\n",
    "except Exception as ex:\n",
    "    print(\"print(py_tuple) => Error:\", ex)\n",
    "print(\"----------\")"
   ]
  },
  {
   "cell_type": "code",
   "execution_count": null,
   "metadata": {},
   "outputs": [],
   "source": [
    "tup2."
   ]
  },
  {
   "cell_type": "code",
   "execution_count": null,
   "metadata": {},
   "outputs": [],
   "source": [
    "{key:value,key1:value1,......}"
   ]
  }
 ],
 "metadata": {
  "kernelspec": {
   "display_name": "Python 3 (ipykernel)",
   "language": "python",
   "name": "python3"
  },
  "language_info": {
   "codemirror_mode": {
    "name": "ipython",
    "version": 3
   },
   "file_extension": ".py",
   "mimetype": "text/x-python",
   "name": "python",
   "nbconvert_exporter": "python",
   "pygments_lexer": "ipython3",
   "version": "3.12.4"
  },
  "toc": {
   "base_numbering": 1,
   "nav_menu": {},
   "number_sections": true,
   "sideBar": true,
   "skip_h1_title": false,
   "title_cell": "Table of Contents",
   "title_sidebar": "Contents",
   "toc_cell": false,
   "toc_position": {},
   "toc_section_display": true,
   "toc_window_display": false
  }
 },
 "nbformat": 4,
 "nbformat_minor": 4
}
