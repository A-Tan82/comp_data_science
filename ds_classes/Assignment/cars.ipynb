{
 "cells": [
  {
   "cell_type": "code",
   "execution_count": null,
   "id": "2ec18fb3",
   "metadata": {},
   "outputs": [],
   "source": [
    "!pip install matplotlib"
   ]
  },
  {
   "cell_type": "code",
   "execution_count": null,
   "id": "dedd67b0",
   "metadata": {},
   "outputs": [],
   "source": [
    "import pandas as pd\n",
    "import numpy as py\n",
    "import matplotlib.pyplot as plt"
   ]
  },
  {
   "cell_type": "code",
   "execution_count": null,
   "id": "e8f38c0a",
   "metadata": {},
   "outputs": [],
   "source": [
    "cars = pd.read_csv('Automobile price data _Raw_.csv')"
   ]
  },
  {
   "cell_type": "code",
   "execution_count": null,
   "id": "1d3f2536",
   "metadata": {},
   "outputs": [],
   "source": [
    "cars"
   ]
  },
  {
   "cell_type": "code",
   "execution_count": null,
   "id": "c17fbdd4",
   "metadata": {},
   "outputs": [],
   "source": [
    "cars.info()"
   ]
  },
  {
   "cell_type": "code",
   "execution_count": null,
   "id": "0f0d408b",
   "metadata": {},
   "outputs": [],
   "source": [
    "cars.isnull().sum()"
   ]
  },
  {
   "cell_type": "code",
   "execution_count": null,
   "id": "849573ab",
   "metadata": {},
   "outputs": [],
   "source": [
    "cars = cars.replace(\"?\", py.nan)"
   ]
  },
  {
   "cell_type": "code",
   "execution_count": null,
   "id": "6b50ed37",
   "metadata": {},
   "outputs": [],
   "source": [
    "num_like = [\"normalized-losses\", \"bore\", \"stroke\", \"horsepower\", \"peak-rpm\", \"price\"]\n",
    "for x in num_like:\n",
    "    cars[x] = pd.to_numeric(cars[x])"
   ]
  },
  {
   "cell_type": "code",
   "execution_count": null,
   "id": "ee2cb45c",
   "metadata": {},
   "outputs": [],
   "source": [
    "cars = cars.dropna(subset=[\"price\"]).reset_index(drop=True)"
   ]
  },
  {
   "cell_type": "code",
   "execution_count": null,
   "id": "47261f6b",
   "metadata": {},
   "outputs": [],
   "source": [
    "cars"
   ]
  },
  {
   "cell_type": "code",
   "execution_count": null,
   "id": "dca0ced9",
   "metadata": {},
   "outputs": [],
   "source": [
    "cars.info()"
   ]
  },
  {
   "cell_type": "code",
   "execution_count": null,
   "id": "856cb6db",
   "metadata": {},
   "outputs": [],
   "source": [
    "cars[\"num-of-doors\"] = cars[\"num-of-doors\"].fillna(cars[\"num-of-doors\"].mode(dropna=True).iloc[0])"
   ]
  },
  {
   "cell_type": "code",
   "execution_count": null,
   "id": "bb0fe7ca",
   "metadata": {},
   "outputs": [],
   "source": [
    "cyl_map = {\"two\": 2, \"three\": 3, \"four\": 4, \"five\": 5, \"six\": 6, \"eight\": 8, \"ten\": 10, \"twelve\": 12}\n",
    "cars[\"num-of-cylinders\"] = cars[\"num-of-cylinders\"].map(cyl_map)\n",
    "cars[\"num-of-cylinders\"] = pd.to_numeric(cars[\"num-of-cylinders\"])"
   ]
  },
  {
   "cell_type": "code",
   "execution_count": 18,
   "id": "a1cac607",
   "metadata": {},
   "outputs": [
    {
     "data": {
      "image/png": "[encoded data removed]",
      "text/plain": [
       "<Figure size 640x480 with 1 Axes>"
      ]
     },
     "metadata": {},
     "output_type": "display_data"
    }
   ],
   "source": [
    "plt.figure()\n",
    "cars[\"price\"].dropna().plot(kind = \"hist\", bins = 30)\n",
    "plt.title(\"Car Price Distribution\")\n",
    "plt.xlabel(\"Price\")\n",
    "plt.ylabel(\"Frequency\")\n",
    "plt.show()"
   ]
  },
  {
   "cell_type": "code",
   "execution_count": null,
   "id": "72e11a4c",
   "metadata": {},
   "outputs": [],
   "source": [
    "sns.scatterplot(x = heart['chol'], y = heart['trestbps'])"
   ]
  },
  {
   "cell_type": "code",
   "execution_count": null,
   "id": "7541b44b",
   "metadata": {},
   "outputs": [
    {
     "data": {
      "text/plain": [
       "<Figure size 640x480 with 0 Axes>"
      ]
     },
     "execution_count": 20,
     "metadata": {},
     "output_type": "execute_result"
    },
    {
     "data": {
      "text/plain": [
       "<Figure size 640x480 with 0 Axes>"
      ]
     },
     "metadata": {},
     "output_type": "display_data"
    }
   ],
   "source": [
    "plt.figure()\n",
    "cars"
   ]
  }
 ],
 "metadata": {
  "kernelspec": {
   "display_name": "Python 3",
   "language": "python",
   "name": "python3"
  },
  "language_info": {
   "codemirror_mode": {
    "name": "ipython",
    "version": 3
   },
   "file_extension": ".py",
   "mimetype": "text/x-python",
   "name": "python",
   "nbconvert_exporter": "python",
   "pygments_lexer": "ipython3",
   "version": "3.13.2"
  }
 },
 "nbformat": 4,
 "nbformat_minor": 5
}
